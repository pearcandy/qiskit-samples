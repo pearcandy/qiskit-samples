{
 "cells": [
  {
   "cell_type": "markdown",
   "id": "2f492053",
   "metadata": {},
   "source": [
    "# CHSH game\n",
    "\n",
    "### Alice & Bob vs. Charlie\n",
    "1. Charile sends to Alice $x\\in\\{0,1\\}$, and also sends to Bob $y\\in\\{0,1 \\}$.\n",
    "2. After Alice has received $x$, she returns $a$.\n",
    "3. After Bob has received $y$, he returns $b$.\n",
    "4. If $x\\land y = a\\otimes b$ is satisfied,  Alice and Bob win, otherwise they loses\n",
    "\n",
    "### Win rate $S$\n",
    "- classical case : $S\\le0.75$\n",
    "- quantum case : $S\\gt0.75$ is possible"
   ]
  },
  {
   "cell_type": "code",
   "execution_count": 1,
   "id": "86a6bbee",
   "metadata": {},
   "outputs": [],
   "source": [
    "import random as rand\n",
    "import qiskit\n",
    "import numpy as np\n",
    "import matplotlib.pyplot as plt\n",
    "from qiskit.circuit import Parameter, QuantumCircuit, QuantumRegister, ClassicalRegister\n",
    "from qiskit import Aer, quantum_info"
   ]
  },
  {
   "cell_type": "markdown",
   "id": "8679e46c",
   "metadata": {},
   "source": [
    "## Classical strategy\n",
    "\n",
    "Let's first play the game using a deterministic classical strategy. Remember, this means that Alice can only devise a strategy based on her value of the input bit x and Bob according to its input value y and they cannot communicate with each other. Here are a few possible strategies:\n",
    "\n",
    "1) output = input\n",
    "\n",
    "2) output = NOT(input)\n",
    "\n",
    "3) always output = 1\n",
    "\n",
    "4) always output = 0\n"
   ]
  },
  {
   "cell_type": "code",
   "execution_count": 2,
   "id": "215eadab",
   "metadata": {},
   "outputs": [],
   "source": [
    "def cplayer_output(strategy, inp):\n",
    "    if(strategy == 1):\n",
    "        return inp\n",
    "    \n",
    "    elif(strategy == 2):\n",
    "        return abs(inp-1)\n",
    "    \n",
    "    elif(strategy == 3):\n",
    "        return 1\n",
    "        \n",
    "    elif(strategy == 4):\n",
    "        return 0\n",
    "            \n",
    "    else:\n",
    "        print(\"INVALID choice\")\n",
    "        return 100"
   ]
  },
  {
   "cell_type": "code",
   "execution_count": 3,
   "id": "b741ae9c",
   "metadata": {},
   "outputs": [
    {
     "name": "stdout",
     "output_type": "stream",
     "text": [
      "select the classical strategy for Alice, input 1,2,3 or 4 to pick one of the strategies listed above 4\n",
      "select the classical strategy for Bob, input 1,2,3 or 4 to pick one of the strategies listed above 4\n"
     ]
    }
   ],
   "source": [
    "# Pick Alice's classical strategy\n",
    "A_st = int(input('select the classical strategy for Alice, input 1,2,3 or 4 to pick one of the strategies listed above '))\n",
    "\n",
    "# Pick Bob's classical strategy\n",
    "B_st = int(input('select the classical strategy for Bob, input 1,2,3 or 4 to pick one of the strategies listed above '))"
   ]
  },
  {
   "cell_type": "code",
   "execution_count": 4,
   "id": "9b8ce415",
   "metadata": {},
   "outputs": [
    {
     "name": "stdout",
     "output_type": "stream",
     "text": [
      "Alice and Bob won the game with probability:  75.6 %\n"
     ]
    }
   ],
   "source": [
    "# fixes the numbers of games to be played\n",
    "N=1000\n",
    "\n",
    "# initializes counters used to keep track of the numbers of games won and played by Alice an Bob\n",
    "cont_win = 0 # counts games won\n",
    "cont_tot = 0 # counts games played\n",
    "\n",
    "\n",
    "# play the game N times\n",
    "for i in range(N):\n",
    "    \n",
    "    # generates two random input from the refree, x and y, to be given to Alice and Bob\n",
    "    random_num1 = rand.random() # first random number\n",
    "    random_num2 = rand.random() # second random number\n",
    "\n",
    "    if(random_num1 >= 1/2): # converts the first random number to 0 or 1\n",
    "        x = 0\n",
    "    else: x = 1\n",
    "\n",
    "    if(random_num2 >= 1/2): # converts the second random number to 0 or 1\n",
    "        y = 0\n",
    "    else: y = 1\n",
    "    \n",
    "    \n",
    "    # generates Alice's and Bob's output\n",
    "    a = cplayer_output(A_st, x) # Alice's output\n",
    "    \n",
    "    b = cplayer_output(B_st, y) # Bob's output\n",
    "\n",
    "\n",
    "    # check if the condition for winning the game is met\n",
    "    if(x*y == a^b):\n",
    "        cont_win += 1 # increase thes won games' counter if the condition to win the game is met\n",
    "    \n",
    "    cont_tot += 1 # increases the played games' counter\n",
    "\n",
    "Prob_win = cont_win/cont_tot # winning probability\n",
    "\n",
    "print('Alice and Bob won the game with probability: ', Prob_win*100, '%')"
   ]
  },
  {
   "cell_type": "markdown",
   "id": "262299b8",
   "metadata": {},
   "source": [
    "## Quantum strategy\n",
    "\n",
    "As a quantum strategy, Alice and Bob play the game by sharing an entangled pair of qubit. That is, two qubits are brought together to form an entangled pair and then Alice and Bob are given one each. Beware, even though the entangled qubits influence each other, it is not possible for Alice and Bob to use them to communicate with each other during the game.\n",
    "\n",
    "According to the input they receive from the refree they will rotate their entangled qubit and then measure it. For example, pick one of the following strategies:\n",
    "\n",
    "1) don't rotate the qubit\n",
    "\n",
    "2) rotate a random amount\n",
    "\n",
    "3) rotate to maximize winning probability"
   ]
  },
  {
   "cell_type": "code",
   "execution_count": 5,
   "id": "d2be01ba",
   "metadata": {},
   "outputs": [],
   "source": [
    "def qAlice_output(strategy, inp):\n",
    "    if(strategy == 1):\n",
    "        return 0\n",
    "    \n",
    "    elif(strategy == 2):\n",
    "        return rand.uniform(0,2*np.pi)\n",
    "    \n",
    "    elif(strategy == 3):\n",
    "        if(inp == 0):\n",
    "            return 0\n",
    "        elif(inp == 1):\n",
    "            return np.pi/2        \n",
    "            \n",
    "    else:\n",
    "        print(\"INVALID choice\")\n",
    "        return 100\n",
    "    \n",
    "\n",
    "def qBob_output(strategy, inp):\n",
    "    if(strategy == 1):\n",
    "        return 0\n",
    "    \n",
    "    elif(strategy == 2):\n",
    "        return rand.uniform(0,2*np.pi)\n",
    "    \n",
    "    elif(strategy == 3):\n",
    "        if(inp == 0):\n",
    "            return np.pi/4\n",
    "        elif(inp == 1):\n",
    "            return -np.pi/4        \n",
    "            \n",
    "    else:\n",
    "        print(\"INVALID choice\")\n",
    "        return 100"
   ]
  },
  {
   "cell_type": "code",
   "execution_count": 6,
   "id": "49f4fd68",
   "metadata": {},
   "outputs": [
    {
     "name": "stdout",
     "output_type": "stream",
     "text": [
      "select the quantum strategy for Alice, input 1,2 or 3 to pick one of the strategies listed above: 3\n",
      "select the quantum strategy for Bob, input 1,2 or 3 to pick one of the strategies listed above: 3\n"
     ]
    }
   ],
   "source": [
    "# Alice's strategy\n",
    "qA_st = int(input('select the quantum strategy for Alice, input 1,2 or 3 to pick one of the strategies listed above: '))\n",
    "\n",
    "# Bob's strategy\n",
    "qB_st = int(input('select the quantum strategy for Bob, input 1,2 or 3 to pick one of the strategies listed above: '))"
   ]
  },
  {
   "cell_type": "code",
   "execution_count": 7,
   "id": "5a8d7baa",
   "metadata": {},
   "outputs": [
    {
     "name": "stdout",
     "output_type": "stream",
     "text": [
      "Alice and Bob won the game with probability:  86.5 %\n"
     ]
    }
   ],
   "source": [
    "# set parameters of the quantum run of the game \n",
    "shots = 1 # set how many times the circuit is run, accumulating statistics about the measurement outcomes \n",
    "backend = Aer.get_backend('qasm_simulator') # set the machine where the quantum circuit is to be run   \n",
    "\n",
    "#fixes the numbers of games to be played\n",
    "N=1000\n",
    "\n",
    "# initializes counters used to keep track of the numbers of games won and played by Alice an Bob\n",
    "cont_win = 0 # counts games won\n",
    "cont_tot = 0 # counts games played\n",
    "\n",
    "#play N games\n",
    "for i in range(N):\n",
    "\n",
    "    # creates quantum circuit, to write a quantum algorithm we will add gates to the circuit\n",
    "    game = QuantumCircuit(2)   \n",
    "    \n",
    "    # These gates prepare the entangled Bell pair to be shared by Alice and Bob as part of their quantum strategy\n",
    "    # Alice will have qubit 0 and Bob will have qubit 1\n",
    "    game.h(0)\n",
    "    game.cx(0,1)\n",
    "\n",
    "    # generates two random input from the refree, x and y, to be given to Alice and Bob\n",
    "    random_num1 = rand.random() # first random number\n",
    "    random_num2 = rand.random() # second random number\n",
    "\n",
    "    if(random_num1 >= 1/2): # converts the first random number to 0 or 1\n",
    "        x = 0\n",
    "    else: x = 1\n",
    "\n",
    "    if(random_num2 >= 1/2): # converts the second random number to 0 or 1\n",
    "        y = 0\n",
    "    else: y = 1\n",
    "        \n",
    "    # The main part of Alice and Bob quantum strategy is to fix different rotation angles for their qubit according to the input x,y\n",
    "    theta = qAlice_output(qA_st, x) # fixes Alice's rotation for her qubit\n",
    "    phi = qBob_output(qB_st, y) # fixes Bob's rotation for his qubit\n",
    "    \n",
    "    # The following gates rotate Alice's qubit and Bob's qubit\n",
    "    game.ry(theta,0)\n",
    "    game.ry(phi,1)\n",
    "    \n",
    "    # These gates are used to measure  the value of the qubits\n",
    "    game.measure_all([0,1],[0,1])\n",
    "\n",
    "    # executes circuit and store the output of the measurements\n",
    "    result = backend.run(game, shots=shots).result()\n",
    "\n",
    "    #data = result.get_counts('game') # extract the outcomes and their statistics from the result of the execution\n",
    "    data = result.get_counts()\n",
    "\n",
    "    # reads the result of the measurements of the quantum system\n",
    "    for outcomes in data.keys():\n",
    "        out = outcomes\n",
    "\n",
    "\n",
    "    # converts the result of the measurements contained in the classical register as string '00', '01', '10', '11',\n",
    "    # which are the answers of Alice(a) and Bob (b), from a 'string' type  to 'integer' type \n",
    "    if(out == '00'):\n",
    "        a = 0\n",
    "        b = 0\n",
    "    if(out == '01'):\n",
    "        a = 1\n",
    "        b = 0    \n",
    "    if(out == '10'):\n",
    "        a = 0\n",
    "        b = 1\n",
    "    if(out == '11'):\n",
    "        a = 1\n",
    "        b = 1\n",
    "\n",
    "    # check if the condition for winning the game is met\n",
    "    if(x*y == a^b):\n",
    "        cont_win += 1 # increase thes won games' counter if the condition to win the game is met\n",
    "    \n",
    "    cont_tot += 1 # increases the played games' counter\n",
    "\n",
    "qProb_win = cont_win/cont_tot\n",
    "\n",
    "print('Alice and Bob won the game with probability: ', qProb_win*100, '%')"
   ]
  },
  {
   "cell_type": "code",
   "execution_count": 8,
   "id": "51e1fa64",
   "metadata": {},
   "outputs": [
    {
     "data": {
      "text/html": [
       "<h3>Version Information</h3><table><tr><th>Qiskit Software</th><th>Version</th></tr><tr><td><code>qiskit-terra</code></td><td>0.21.0</td></tr><tr><td><code>qiskit-aer</code></td><td>0.10.4</td></tr><tr><td><code>qiskit-ignis</code></td><td>0.7.0</td></tr><tr><td><code>qiskit-ibmq-provider</code></td><td>0.19.2</td></tr><tr><td><code>qiskit</code></td><td>0.37.0</td></tr><tr><td><code>qiskit-nature</code></td><td>0.3.0</td></tr><tr><td><code>qiskit-finance</code></td><td>0.3.0</td></tr><tr><td><code>qiskit-optimization</code></td><td>0.3.0</td></tr><tr><td><code>qiskit-machine-learning</code></td><td>0.3.0</td></tr><tr><th>System information</th></tr><tr><td>Python version</td><td>3.7.10</td></tr><tr><td>Python compiler</td><td>GCC 7.3.0</td></tr><tr><td>Python build</td><td>default, Feb 26 2021 18:47:35</td></tr><tr><td>OS</td><td>Linux</td></tr><tr><td>CPUs</td><td>4</td></tr><tr><td>Memory (Gb)</td><td>7.406494140625</td></tr><tr><td colspan='2'>Thu Oct 06 19:23:48 2022 JST</td></tr></table>"
      ],
      "text/plain": [
       "<IPython.core.display.HTML object>"
      ]
     },
     "metadata": {},
     "output_type": "display_data"
    }
   ],
   "source": [
    "import qiskit.tools.jupyter\n",
    "%qiskit_version_table"
   ]
  },
  {
   "cell_type": "code",
   "execution_count": null,
   "id": "8bd668e0",
   "metadata": {},
   "outputs": [],
   "source": []
  }
 ],
 "metadata": {
  "kernelspec": {
   "display_name": "python3.7",
   "language": "python",
   "name": "python3.7"
  },
  "language_info": {
   "codemirror_mode": {
    "name": "ipython",
    "version": 3
   },
   "file_extension": ".py",
   "mimetype": "text/x-python",
   "name": "python",
   "nbconvert_exporter": "python",
   "pygments_lexer": "ipython3",
   "version": "3.7.10"
  }
 },
 "nbformat": 4,
 "nbformat_minor": 5
}
