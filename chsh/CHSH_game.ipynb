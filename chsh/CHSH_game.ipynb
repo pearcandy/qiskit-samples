{
 "cells": [
  {
   "cell_type": "markdown",
   "id": "2f492053",
   "metadata": {},
   "source": [
    "## CHSH game\n",
    "\n",
    "### Alice & Bob vs. Charlie\n",
    "1. Charile sends to Alice $x\\in\\{0,1\\}$, and also sends to Bob $y\\in\\{0,1 \\}$.\n",
    "2. After Alice has received $x$, she returns $a$.\n",
    "3. After Bob has received $y$, he returns $b$.\n",
    "4. If $x\\land y = a\\otimes b$ is satisfied,  Alice and Bob win, otherwise they loses\n",
    "\n",
    "### Win rate $S$\n",
    "- classical case : $S\\le0.75$\n",
    "- quantum case : $S\\gt0.75$ is possible"
   ]
  },
  {
   "cell_type": "code",
   "execution_count": 1,
   "id": "86a6bbee",
   "metadata": {},
   "outputs": [],
   "source": [
    "import random\n",
    "import qiskit\n",
    "import numpy as np\n",
    "import matplotlib.pyplot as plt\n",
    "from qiskit.circuit import Parameter, QuantumCircuit\n",
    "from qiskit import Aer, quantum_info"
   ]
  },
  {
   "cell_type": "code",
   "execution_count": 2,
   "id": "215eadab",
   "metadata": {},
   "outputs": [],
   "source": [
    "def classical(trials):\n",
    "    S = 0\n",
    "    \n",
    "    for _ in range(trials):\n",
    "        \n",
    "        # random bits by Charlie(x,y)\n",
    "        x = random.randint(0,1)\n",
    "        y = random.randint(0,1)\n",
    "        \n",
    "        # responce by Alice\n",
    "        a = 0\n",
    "        \n",
    "        # responce by Bob\n",
    "        b = 0\n",
    "        \n",
    "        # count up if Alice and Bob win\n",
    "        if (x and y) == (a+b)%2:\n",
    "            S = S + 1\n",
    "        else:\n",
    "            pass\n",
    "\n",
    "    S /= trials\n",
    "        \n",
    "    print(\"S =\",S)"
   ]
  },
  {
   "cell_type": "code",
   "execution_count": 3,
   "id": "d2be01ba",
   "metadata": {},
   "outputs": [
    {
     "name": "stdout",
     "output_type": "stream",
     "text": [
      "S = 0.736\n"
     ]
    }
   ],
   "source": [
    "trials = 1000\n",
    "classical(trials)"
   ]
  },
  {
   "cell_type": "code",
   "execution_count": 7,
   "id": "056a7a75",
   "metadata": {},
   "outputs": [],
   "source": [
    "def quantum(trials):\n",
    "    S = 0\n",
    "    \n",
    "    for _ in range(trials):\n",
    "        \n",
    "        # random bits by Charlie(x,y)\n",
    "        x = random.randint(0,1)\n",
    "        y = random.randint(0,1)\n",
    "        \n",
    "        # Bell state\n",
    "        backend = Aer.get_backend('qasm_simulator')\n",
    "        qc = QuantumCircuit(2)\n",
    "        \n",
    "        if x==0:    \n",
    "            qc.h(0)\n",
    "            qc.cx(0,1)\n",
    "            qc.measure_all() # Z-basis measure\n",
    "            job = backend.run(qc,shots=1)\n",
    "            count = job.result().get_counts()\n",
    "            if count.get('00')==1 or count.get('10')==1:\n",
    "                a=0\n",
    "            else:\n",
    "                a=1\n",
    "        elif x==1:\n",
    "            qc.h(0)\n",
    "            qc.cx(0,1)\n",
    "            qc.h(0) # X-basis measure\n",
    "            qc.measure_all()\n",
    "            job = backend.run(qc,shots=1)\n",
    "            count = job.result().get_counts()\n",
    "            if count.get('00')==1 or count.get('10')==1:\n",
    "                a=0\n",
    "            else:\n",
    "                a=1  \n",
    "        else:\n",
    "            pass\n",
    "        \n",
    "        if y==0:\n",
    "            qc.h(0)\n",
    "            qc.cx(0,1)\n",
    "            qc.ry(0.25*np.pi, 1)\n",
    "            qc.measure_all()\n",
    "            job = backend.run(qc,shots=1)\n",
    "            count = job.result().get_counts()\n",
    "            if count.get('00')==1 or count.get('01')==1:\n",
    "                b=0\n",
    "            else:\n",
    "                b=1\n",
    "        elif y==1:\n",
    "            qc.h(0)\n",
    "            qc.cx(0,1)\n",
    "            qc.ry(-0.25*np.pi, 1)\n",
    "            qc.measure_all()\n",
    "            job = backend.run(qc,shots=1)\n",
    "            count = job.result().get_counts()\n",
    "            if count.get('00')==1 or count.get('01')==1:\n",
    "                b=0\n",
    "            else:\n",
    "                b=1\n",
    "        else:\n",
    "            pass\n",
    "                \n",
    "        # count up if Alice and Bob win\n",
    "        if (x and y) == (a+b)%2:\n",
    "            S = S + 1\n",
    "        else:\n",
    "            pass\n",
    "\n",
    "    S /= trials\n",
    "        \n",
    "    print(\"S =\",S)"
   ]
  },
  {
   "cell_type": "code",
   "execution_count": 8,
   "id": "55783343",
   "metadata": {},
   "outputs": [
    {
     "name": "stdout",
     "output_type": "stream",
     "text": [
      "S = 0.505\n"
     ]
    }
   ],
   "source": [
    "trials = 1000\n",
    "quantum(trials)"
   ]
  },
  {
   "cell_type": "code",
   "execution_count": 6,
   "id": "51e1fa64",
   "metadata": {},
   "outputs": [
    {
     "data": {
      "text/html": [
       "<h3>Version Information</h3><table><tr><th>Qiskit Software</th><th>Version</th></tr><tr><td><code>qiskit-terra</code></td><td>0.21.0</td></tr><tr><td><code>qiskit-aer</code></td><td>0.10.4</td></tr><tr><td><code>qiskit-ignis</code></td><td>0.7.0</td></tr><tr><td><code>qiskit-ibmq-provider</code></td><td>0.19.2</td></tr><tr><td><code>qiskit</code></td><td>0.37.0</td></tr><tr><td><code>qiskit-nature</code></td><td>0.3.0</td></tr><tr><td><code>qiskit-finance</code></td><td>0.3.0</td></tr><tr><td><code>qiskit-optimization</code></td><td>0.3.0</td></tr><tr><td><code>qiskit-machine-learning</code></td><td>0.3.0</td></tr><tr><th>System information</th></tr><tr><td>Python version</td><td>3.7.10</td></tr><tr><td>Python compiler</td><td>GCC 7.3.0</td></tr><tr><td>Python build</td><td>default, Feb 26 2021 18:47:35</td></tr><tr><td>OS</td><td>Linux</td></tr><tr><td>CPUs</td><td>4</td></tr><tr><td>Memory (Gb)</td><td>7.406494140625</td></tr><tr><td colspan='2'>Thu Oct 06 13:54:26 2022 JST</td></tr></table>"
      ],
      "text/plain": [
       "<IPython.core.display.HTML object>"
      ]
     },
     "metadata": {},
     "output_type": "display_data"
    }
   ],
   "source": [
    "import qiskit.tools.jupyter\n",
    "%qiskit_version_table"
   ]
  },
  {
   "cell_type": "code",
   "execution_count": null,
   "id": "8bd668e0",
   "metadata": {},
   "outputs": [],
   "source": []
  }
 ],
 "metadata": {
  "kernelspec": {
   "display_name": "python3.7",
   "language": "python",
   "name": "python3.7"
  },
  "language_info": {
   "codemirror_mode": {
    "name": "ipython",
    "version": 3
   },
   "file_extension": ".py",
   "mimetype": "text/x-python",
   "name": "python",
   "nbconvert_exporter": "python",
   "pygments_lexer": "ipython3",
   "version": "3.7.10"
  }
 },
 "nbformat": 4,
 "nbformat_minor": 5
}
