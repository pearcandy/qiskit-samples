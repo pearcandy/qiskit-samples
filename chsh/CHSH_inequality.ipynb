{
 "cells": [
  {
   "cell_type": "markdown",
   "id": "2f492053",
   "metadata": {
    "slideshow": {
     "slide_type": "slide"
    }
   },
   "source": [
    "## Local Reality and the CHSH Inequality\n",
    "\n",
    "In 1963, John Stewart Bell published what could be argued as one of the most profound discoveries in the history of science. Bell stated that any theory invoking local hidden variables could be experimentally ruled out. "
   ]
  },
  {
   "cell_type": "markdown",
   "id": "f651b610",
   "metadata": {
    "slideshow": {
     "slide_type": "slide"
    }
   },
   "source": [
    "## The Nobel Prize in Physics 2022\n",
    "\n",
    "John F. Clauser\n",
    "\n",
    "Born: 1 December 1942, Pasadena, CA, USA\n",
    "\n",
    "Affiliation at the time of the award: J.F. Clauser & Assoc., Walnut Creek, CA, USA\n",
    "\n",
    "Prize motivation: “for experiments with entangled photons, establishing the violation of Bell inequalities and pioneering quantum information science”\n",
    "\n",
    "https://www.nobelprize.org/prizes/physics/2022/clauser/facts/"
   ]
  },
  {
   "cell_type": "markdown",
   "id": "015f5e4e",
   "metadata": {
    "slideshow": {
     "slide_type": "slide"
    }
   },
   "source": [
    "## The CHSH inequality \n",
    "\n",
    "Imagine Alice and Bob are given each one part of a bipartite entangled system. Each of them then performs two measurements on their part in two different bases. Let's call Alice's bases A and a and Bob's B and b. What is the expectation value of the quantity ?\n",
    "\n",
    "$$\\langle CHSH \\rangle =\\langle AB\\rangle -\\langle Ab\\rangle +\\langle aB\\rangle +\\langle ab \\rangle$$\n",
    "\n",
    "Now, Alice and Bob have one qubit each, so any measurement they perform on their system (qubit) can only yield one of two possible outcomes: +1 or -1. Note that whereas we typically refer to the two qubit states as $|0\\rangle $ and $|1\\rangle$, these are eigenstates, and a projective measurement will yield their eigenvalues, +1 and -1, respectively.\n",
    "\n",
    "Therefore, if any measurement of $A$, $a$, $B$, and $b$ can only yield $\\pm 1$, the quanttities $(B-b)$ and $(B+b)$ can only be 0 or $\\pm 2$. And thus, the quantity $A(B-b)+a(B+b)$ can only be either +2 or -2, which means that there should be a bound for the expectation value of the quantity we have called\n",
    "\n",
    "$$|\\langle CHSH \\rangle| = |\\langle AB\\rangle -\\langle Ab\\rangle +\\langle aB\\rangle +\\langle ab\\rangle|\\le 2$$\n",
    "\n",
    "Now, the above discussion is oversimplified, because we could consider that the outcome on any set of measurements from Alice and Bob could depend on a set of local hidden variables, but it can be shown with some math that, even when that is the case, the expectation value of the quantity $CHSH$ should be bounded by 2 if local realism held."
   ]
  },
  {
   "cell_type": "markdown",
   "id": "f373a726",
   "metadata": {
    "slideshow": {
     "slide_type": "slide"
    }
   },
   "source": [
    "### But what happens when we do these experiments with an <span style=\"color: red; \">entangled</span> system?"
   ]
  },
  {
   "cell_type": "code",
   "execution_count": 1,
   "id": "d5be0519",
   "metadata": {
    "slideshow": {
     "slide_type": "slide"
    }
   },
   "outputs": [],
   "source": [
    "# import qiskit tools\n",
    "import qiskit\n",
    "from qiskit import QuantumCircuit, ClassicalRegister, QuantumRegister, transpile, Aer, IBMQ\n",
    "from qiskit.tools.visualization import circuit_drawer\n",
    "from qiskit.tools.monitor import job_monitor, backend_monitor, backend_overview\n",
    "from qiskit.providers.aer import noise\n",
    "\n",
    "# import python stuff \n",
    "import matplotlib.pyplot as plt\n",
    "import numpy as np\n",
    "import time"
   ]
  },
  {
   "cell_type": "code",
   "execution_count": 2,
   "id": "23934170",
   "metadata": {
    "slideshow": {
     "slide_type": "slide"
    }
   },
   "outputs": [],
   "source": [
    "backend = Aer.get_backend('aer_simulator')"
   ]
  },
  {
   "cell_type": "markdown",
   "id": "9ae9f073",
   "metadata": {
    "slideshow": {
     "slide_type": "slide"
    }
   },
   "source": [
    "First we are going to define a function to create CHSH circuits. We are going to choose, witout loss of generality, \n",
    "that Bob always uses the computational $\\langle Z \\rangle$ and the $X$ bases for his $B$ and $b$ measurements, respectively, whereas Alice chooses also orthogonal bases but whose angle we are going to vary between 0 and $2\\pi$ with respect to Bob's bases. This set of angles is going to be the input argument to our $CHSH$ circuit building function."
   ]
  },
  {
   "cell_type": "code",
   "execution_count": 3,
   "id": "6a4d9b30",
   "metadata": {
    "slideshow": {
     "slide_type": "slide"
    }
   },
   "outputs": [],
   "source": [
    "def make_chsh_circuit(theta_vec):\n",
    "    \"\"\"Return a list of QuantumCircuits for use in a CHSH experiemnt\n",
    "    (one for each value of theta in theta_vec)\n",
    "    \n",
    "        Args:\n",
    "            theta_vec (list): list of values of angles between the bases of Alice and Bob\n",
    "        \n",
    "        Returns:\n",
    "            List[QuantumCircuit]: CHSH QuantumCircuits for each value of theta\n",
    "    \"\"\"\n",
    "    chsh_circuits = []\n",
    "    \n",
    "    for theta in theta_vec:\n",
    "        obs_vec = ['00', '01', '10', '11']\n",
    "        for el in obs_vec:\n",
    "            qc = QuantumCircuit(2,2)\n",
    "            qc.h(0)\n",
    "            qc.cx(0, 1)\n",
    "            qc.ry(theta, 0)\n",
    "            for a in range(2):\n",
    "                if el[a] == '1':\n",
    "                    qc.h(a) \n",
    "            qc.measure(range(2),range(2))\n",
    "            chsh_circuits.append(qc)\n",
    "\n",
    "    return chsh_circuits  "
   ]
  },
  {
   "cell_type": "markdown",
   "id": "2b6ce482",
   "metadata": {
    "slideshow": {
     "slide_type": "slide"
    }
   },
   "source": [
    "Next, we are going to define a function for estimating the quantity $\\langle CHSH\\rangle$. One can define \n",
    "two of such quantities, actually, $\\langle CHSH1 \\rangle =\\langle AB\\rangle - \\langle Ab \\rangle + \\langle aB\\rangle +\\langle ab\\rangle$ and $\\langle CHSH2 \\rangle =\\langle AB\\rangle + \\langle Ab \\rangle - \\langle aB\\rangle +\\langle ab\\rangle$. Once chosen the corresponding measurement axes for both parties, each expectation value can be simply estimated by adding the counts from the output bitstrings with the appropriate sign (plus for the even terms 00 and 11 and minus for odd terms 01 and 10.)"
   ]
  },
  {
   "cell_type": "code",
   "execution_count": 4,
   "id": "14d8fef1",
   "metadata": {
    "slideshow": {
     "slide_type": "slide"
    }
   },
   "outputs": [],
   "source": [
    "def compute_chsh_witness(counts):\n",
    "    \"\"\"Computes expectation values for the CHSH inequality, for each\n",
    "    angle (theta) between measurement axis.\n",
    "\n",
    "        Args: counts (list[dict]): dict of counts for each experiment\n",
    "              (4 per value of theta)\n",
    "\n",
    "        Returns:\n",
    "            Tuple(List, List): Tuple of lists with the two CHSH witnesses\n",
    "    \"\"\"\n",
    "    # Order is ZZ,ZX,XZ,XX\n",
    "    \n",
    "    CHSH1 = []\n",
    "    CHSH2 = []\n",
    "    # Divide the list of dictionaries in sets of 4\n",
    "    for i in range(0, len(counts), 4):  \n",
    "        theta_dict = counts[i:i + 4]\n",
    "        zz = theta_dict[0]\n",
    "        zx = theta_dict[1]\n",
    "        xz = theta_dict[2]\n",
    "        xx = theta_dict[3]\n",
    "\n",
    "        no_shots = sum(xx[y] for y in xx)\n",
    "\n",
    "        chsh1 = 0\n",
    "        chsh2 = 0\n",
    "\n",
    "        for element in zz:\n",
    "            parity = (-1)**(int(element[0])+int(element[1]))\n",
    "            chsh1+= parity*zz[element]\n",
    "            chsh2+= parity*zz[element]\n",
    "\n",
    "        for element in zx:\n",
    "            parity = (-1)**(int(element[0])+int(element[1]))\n",
    "            chsh1+= parity*zx[element]\n",
    "            chsh2-= parity*zx[element]\n",
    "\n",
    "        for element in xz:\n",
    "            parity = (-1)**(int(element[0])+int(element[1]))\n",
    "            chsh1-= parity*xz[element]\n",
    "            chsh2+= parity*xz[element]\n",
    "\n",
    "        for element in xx:\n",
    "            parity = (-1)**(int(element[0])+int(element[1]))\n",
    "            chsh1+= parity*xx[element]\n",
    "            chsh2+= parity*xx[element]\n",
    "\n",
    "        CHSH1.append(chsh1/no_shots)\n",
    "        CHSH2.append(chsh2/no_shots)\n",
    "    \n",
    "    return CHSH1, CHSH2"
   ]
  },
  {
   "cell_type": "markdown",
   "id": "ac1bf6ca",
   "metadata": {
    "slideshow": {
     "slide_type": "slide"
    }
   },
   "source": [
    "Finally, we are going to split the interval [0,$2\\pi$) into 15 angles and will build the corresponding set of $CHSH$ circuits."
   ]
  },
  {
   "cell_type": "code",
   "execution_count": 5,
   "id": "05947c0a",
   "metadata": {
    "slideshow": {
     "slide_type": "slide"
    }
   },
   "outputs": [],
   "source": [
    "number_of_thetas = 15\n",
    "theta_vec = np.linspace(0, 2*np.pi, number_of_thetas)\n",
    "my_chsh_circuits = make_chsh_circuit(theta_vec)"
   ]
  },
  {
   "cell_type": "code",
   "execution_count": 6,
   "id": "488719ad",
   "metadata": {
    "slideshow": {
     "slide_type": "slide"
    }
   },
   "outputs": [
    {
     "data": {
      "image/png": "[encoded data removed]",
      "text/plain": [
       "<Figure size 327.252x204.68 with 1 Axes>"
      ]
     },
     "execution_count": 6,
     "metadata": {},
     "output_type": "execute_result"
    }
   ],
   "source": [
    "my_chsh_circuits[0].draw('mpl')"
   ]
  },
  {
   "cell_type": "code",
   "execution_count": 7,
   "id": "144a13a9",
   "metadata": {
    "slideshow": {
     "slide_type": "slide"
    }
   },
   "outputs": [
    {
     "data": {
      "image/png": "[encoded data removed]",
      "text/plain": [
       "<Figure size 387.452x204.68 with 1 Axes>"
      ]
     },
     "execution_count": 7,
     "metadata": {},
     "output_type": "execute_result"
    }
   ],
   "source": [
    "my_chsh_circuits[1].draw('mpl')"
   ]
  },
  {
   "cell_type": "code",
   "execution_count": 8,
   "id": "c365e5fa",
   "metadata": {
    "slideshow": {
     "slide_type": "slide"
    }
   },
   "outputs": [
    {
     "data": {
      "image/png": "[encoded data removed]",
      "text/plain": [
       "<Figure size 387.452x204.68 with 1 Axes>"
      ]
     },
     "execution_count": 8,
     "metadata": {},
     "output_type": "execute_result"
    }
   ],
   "source": [
    "my_chsh_circuits[2].draw('mpl')"
   ]
  },
  {
   "cell_type": "code",
   "execution_count": 9,
   "id": "161dfe20",
   "metadata": {
    "slideshow": {
     "slide_type": "slide"
    }
   },
   "outputs": [
    {
     "data": {
      "image/png": "[encoded data removed]",
      "text/plain": [
       "<Figure size 387.452x204.68 with 1 Axes>"
      ]
     },
     "execution_count": 9,
     "metadata": {},
     "output_type": "execute_result"
    }
   ],
   "source": [
    "my_chsh_circuits[3].draw('mpl')"
   ]
  },
  {
   "cell_type": "code",
   "execution_count": 10,
   "id": "a41779a8",
   "metadata": {
    "slideshow": {
     "slide_type": "slide"
    }
   },
   "outputs": [
    {
     "data": {
      "image/png": "[encoded data removed]",
      "text/plain": [
       "<Figure size 327.252x204.68 with 1 Axes>"
      ]
     },
     "execution_count": 10,
     "metadata": {},
     "output_type": "execute_result"
    }
   ],
   "source": [
    "my_chsh_circuits[4].draw('mpl')"
   ]
  },
  {
   "cell_type": "markdown",
   "id": "2c81145d",
   "metadata": {
    "slideshow": {
     "slide_type": "slide"
    }
   },
   "source": [
    "These circuits are simply creating a Bell pair, and then measuring each party in a different basis. While Bob ($q_1$) always measures either in the computational basis or the $X$ basis, Alices's measurement basis rotates by the angle $\\theta$ with respect to Bob's. "
   ]
  },
  {
   "cell_type": "code",
   "execution_count": 11,
   "id": "e5dfbd06",
   "metadata": {
    "slideshow": {
     "slide_type": "slide"
    }
   },
   "outputs": [],
   "source": [
    "# Excecute ant get counts\n",
    "result_ideal = backend.run(my_chsh_circuits).result()\n",
    "\n",
    "#tic = time.time()\n",
    "#transpiled_circuits = transpile(my_chsh_circuits, quito)\n",
    "#job_real = quito.run(transpiled_circuits, shots=8192)\n",
    "#job_monitor(job_real)\n",
    "#result_real = job_real.result()\n",
    "#toc = time.time()\n",
    "\n",
    "#print(toc-tic)"
   ]
  },
  {
   "cell_type": "code",
   "execution_count": 12,
   "id": "24be1610",
   "metadata": {
    "slideshow": {
     "slide_type": "slide"
    }
   },
   "outputs": [],
   "source": [
    "# check result_ideal\n",
    "counts = result_ideal.get_counts()\n",
    "    \n",
    "for i in range(0, len(counts), 4):  \n",
    "    theta_dict = counts[i:i + 4]\n",
    "    zz = theta_dict[0]\n",
    "    zx = theta_dict[1]\n",
    "    xz = theta_dict[2]\n",
    "    xx = theta_dict[3]\n",
    "    no_shots = sum(xx[y] for y in xx)"
   ]
  },
  {
   "cell_type": "code",
   "execution_count": 13,
   "id": "c0a30691",
   "metadata": {
    "slideshow": {
     "slide_type": "slide"
    }
   },
   "outputs": [],
   "source": [
    "CHSH1_ideal, CHSH2_ideal = compute_chsh_witness(result_ideal.get_counts())\n",
    "#CHSH1_real, CHSH2_real = compute_chsh_witness(result_real.get_counts())"
   ]
  },
  {
   "cell_type": "markdown",
   "id": "6fd2fd69",
   "metadata": {
    "slideshow": {
     "slide_type": "slide"
    }
   },
   "source": [
    "Now we plot the results."
   ]
  },
  {
   "cell_type": "code",
   "execution_count": 14,
   "id": "03a0cdbc",
   "metadata": {
    "slideshow": {
     "slide_type": "slide"
    }
   },
   "outputs": [
    {
     "data": {
      "text/plain": [
       "Text(0, 0.5, 'CHSH witness')"
      ]
     },
     "execution_count": 14,
     "metadata": {},
     "output_type": "execute_result"
    },
    {
     "data": {
      "image/png": "[encoded data removed]",
      "text/plain": [
       "<Figure size 864x576 with 1 Axes>"
      ]
     },
     "metadata": {
      "needs_background": "light"
     },
     "output_type": "display_data"
    }
   ],
   "source": [
    "plt.figure(figsize=(12,8))\n",
    "plt.rcParams.update({'font.size': 22})\n",
    "plt.plot(theta_vec,CHSH1_ideal,'o-',label = 'CHSH1 Noiseless')\n",
    "plt.plot(theta_vec,CHSH2_ideal,'o-',label = 'CHSH2 Noiseless')\n",
    "\n",
    "#plt.plot(theta_vec,CHSH1_real,'x-',label = 'CHSH1 Quito')\n",
    "#plt.plot(theta_vec,CHSH2_real,'x-',label = 'CHSH2 Quito')\n",
    "\n",
    "plt.grid(which='major',axis='both')\n",
    "plt.rcParams.update({'font.size': 16})\n",
    "plt.legend()\n",
    "plt.axhline(y=2, color='r', linestyle='-')\n",
    "plt.axhline(y=-2, color='r', linestyle='-')\n",
    "plt.axhline(y=np.sqrt(2)*2, color='k', linestyle='-.')\n",
    "plt.axhline(y=-np.sqrt(2)*2, color='k', linestyle='-.')\n",
    "plt.xlabel('Theta')\n",
    "plt.ylabel('CHSH witness')"
   ]
  },
  {
   "cell_type": "markdown",
   "id": "c37b11e3",
   "metadata": {
    "slideshow": {
     "slide_type": "slide"
    }
   },
   "source": [
    "Note what happend! These are some particular combination of measurement bases for which $|CHSH|>2$!. How is this possible? Let's look at our entangled bipartite system. It is easy to show that if $|\\psi\\rangle=\\frac{1}{\\sqrt{2}}|00\\rangle + |11\\rangle)$, then the expectation value $\\langle AB \\rangle =\\langle \\psi|A\\otimes B|\\psi\\rangle=-\\cos\\theta_{AB}$ where $\\theta_{AB}$ is the angle between the measurement bases $A$ and $B$. Therefore, for the particular choice of bases $A=\\frac{1}{\\sqrt{2}}(\\sigma_z - \\sigma_x)$ and $a=\\frac{1}{\\sqrt{2}}(\\sigma_z + \\sigma_x)$, letting Bob measure with $B=\\sigma_z$ and $b=\\sigma_x$, we see that $|\\langle CHSH1\\rangle|=2\\sqrt{2}>2$. It can also be shown that $2\\sqrt{2}$ is the maximum possible value attainable, even in the quantum case."
   ]
  },
  {
   "cell_type": "markdown",
   "id": "1b2e3e0b",
   "metadata": {
    "slideshow": {
     "slide_type": "slide"
    }
   },
   "source": [
    "The above inequality is called CHSH after Clauser, Horne, Shimony, and Holt, and it is the most popular way of presenting the original inequality from Bell."
   ]
  },
  {
   "cell_type": "code",
   "execution_count": 15,
   "id": "db0bfe96",
   "metadata": {
    "slideshow": {
     "slide_type": "slide"
    }
   },
   "outputs": [
    {
     "data": {
      "text/html": [
       "<h3>Version Information</h3><table><tr><th>Qiskit Software</th><th>Version</th></tr><tr><td><code>qiskit-terra</code></td><td>0.21.0</td></tr><tr><td><code>qiskit-aer</code></td><td>0.10.4</td></tr><tr><td><code>qiskit-ignis</code></td><td>0.7.0</td></tr><tr><td><code>qiskit-ibmq-provider</code></td><td>0.19.2</td></tr><tr><td><code>qiskit</code></td><td>0.37.0</td></tr><tr><td><code>qiskit-nature</code></td><td>0.3.0</td></tr><tr><td><code>qiskit-finance</code></td><td>0.3.0</td></tr><tr><td><code>qiskit-optimization</code></td><td>0.3.0</td></tr><tr><td><code>qiskit-machine-learning</code></td><td>0.3.0</td></tr><tr><th>System information</th></tr><tr><td>Python version</td><td>3.7.10</td></tr><tr><td>Python compiler</td><td>GCC 7.3.0</td></tr><tr><td>Python build</td><td>default, Feb 26 2021 18:47:35</td></tr><tr><td>OS</td><td>Linux</td></tr><tr><td>CPUs</td><td>4</td></tr><tr><td>Memory (Gb)</td><td>7.406494140625</td></tr><tr><td colspan='2'>Thu Oct 06 15:55:58 2022 JST</td></tr></table>"
      ],
      "text/plain": [
       "<IPython.core.display.HTML object>"
      ]
     },
     "metadata": {},
     "output_type": "display_data"
    }
   ],
   "source": [
    "import qiskit.tools.jupyter\n",
    "%qiskit_version_table"
   ]
  },
  {
   "cell_type": "code",
   "execution_count": null,
   "id": "816a75a1",
   "metadata": {},
   "outputs": [],
   "source": []
  }
 ],
 "metadata": {
  "celltoolbar": "Slideshow",
  "kernelspec": {
   "display_name": "python3.7",
   "language": "python",
   "name": "python3.7"
  },
  "language_info": {
   "codemirror_mode": {
    "name": "ipython",
    "version": 3
   },
   "file_extension": ".py",
   "mimetype": "text/x-python",
   "name": "python",
   "nbconvert_exporter": "python",
   "pygments_lexer": "ipython3",
   "version": "3.7.10"
  }
 },
 "nbformat": 4,
 "nbformat_minor": 5
}
