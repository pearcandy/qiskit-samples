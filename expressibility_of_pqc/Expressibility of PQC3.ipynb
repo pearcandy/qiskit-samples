{
 "cells": [
  {
   "cell_type": "markdown",
   "id": "2f492053",
   "metadata": {},
   "source": [
    "## Expressibility and entangling capability of parameterized quantum circuits for hybrid quantum-classical algorithms\n",
    "\n",
    "Ref) *Adv.Quantum.Technol.* **2** 1900070 (2019): https://arxiv.org/abs/1905.10876  \n",
    "S.Sim,P.D.Johnson and A.Aspuru-Guzik \n",
    "\n",
    "Consider a parameterized quantum circuit $U(\\mathbf{x})$, and define the quantity\n",
    "$$f(\\mathbf{x},\\mathbf{y}) = |\\langle 0 | U^{\\dagger}(\\mathbf{y})U(\\mathbf{x})|0\\rangle|^{2}$$\n",
    "This quantity is the fidelity of the two states\n",
    "$$\\begin{align*}\n",
    "|\\psi_{\\mathbf{x}}\\rangle = U(\\mathbf{x})|0\\rangle~~&\\text{and}~~|\\psi_{\\mathbf{y}}\\rangle = U(\\mathbf{y})|0\\rangle:\\\\\n",
    "|\\langle \\psi_{\\mathbf{y}}|\\psi_{\\mathbf{x}}\\rangle|^{2} &= |\\langle 0 |U^{\\dagger}(\\mathbf{y})U(\\mathbf{x})|0\\rangle|^{2}.\n",
    "\\end{align*}$$\n",
    "\n",
    "- Suppose we generate a bunch of random realizations of $\\mathbf{x},\\mathbf{y}$. This gives us a set of random realizations of $f$\n",
    "$$F = \\{f_{1}, f_{2}, \\cdots \\}.$$\n",
    "\n",
    "- if the circuit generating that fidelity is drawn from a Haar-random distribution. If the circuit acts on $n$ qubits, the probability of a given fidelity value $f$ is:\n",
    "$$ \\mathrm{Pr}_{\\text{Haar}}(f) = (N -1)*(1-f)^{N-2}~~N=2^{n}.$$\n",
    "\n",
    "- To calculate the probability over a bin of the histogram, we do an integral:\n",
    "$$\\mathrm{Pr}_{\\text{Haar}}(j) = \\int_{l_{j}}^{u_{j}}  \\mathrm{Pr}_{\\text{Haar}}(f) ~df =  (1-l_{j})^{N-1}  - (1-u_{j})^{N-1}$$\n",
    "\n",
    "- The expressibility is then estimated as the KL divergence between the empirically-observed probability distribution (i.e., the histogram) and the probability distribution that would result under a Haar-random unitary.\n",
    "$$\\text{Expr} = \\mathrm{KL}(\\mathrm{Pr}_{\\text{emp}}|| \\mathrm{Pr}_{\\text{Haar}}) = \\sum_{j} \\mathrm{Pr}_{\\text{emp}}(j)\\log\\left(\\frac{\\mathrm{Pr}_{\\text{emp}}(j)}{\\mathrm{Pr}_{\\text{Haar}}(j)}\\right)$$"
   ]
  },
  {
   "cell_type": "code",
   "execution_count": 1,
   "id": "86a6bbee",
   "metadata": {},
   "outputs": [],
   "source": [
    "from matplotlib import pyplot\n",
    "from qiskit import *\n",
    "from qiskit import QuantumRegister, ClassicalRegister, QuantumCircuit, Aer\n",
    "from qiskit.visualization import plot_histogram, plot_bloch_vector, plot_bloch_multivector\n",
    "from qiskit.quantum_info import Statevector\n",
    "from qiskit.extensions import *\n",
    "\n",
    "from qiskit.quantum_info import random_unitary\n",
    "\n",
    "import matplotlib.pyplot as plt\n",
    "%matplotlib inline\n",
    "import numpy as np\n",
    "import math\n",
    "from math import pi, sqrt\n",
    "\n",
    "from scipy.special import rel_entr\n",
    "from random import seed\n",
    "from random import random\n",
    "import cmath"
   ]
  },
  {
   "cell_type": "markdown",
   "id": "11502c7a",
   "metadata": {},
   "source": [
    "## $Pr_{haar}$"
   ]
  },
  {
   "cell_type": "code",
   "execution_count": 2,
   "id": "633f3ad3",
   "metadata": {},
   "outputs": [],
   "source": [
    "#Possible Bin\n",
    "bins_list=[];\n",
    "for i in range(76):\n",
    "    bins_list.append((i)/75)\n",
    "\n",
    "#Center of the Bean\n",
    "bins_x=[]    \n",
    "for i in range(75):\n",
    "    bins_x.append(bins_list[1]+bins_list[i])\n",
    "    \n",
    "def P_harr(l,u,N):\n",
    "    return (1-l)**(N-1)-(1-u)**(N-1)\n",
    "\n",
    "def P_harr_hist(bins, qubit_num=1):\n",
    "    P_harr_hist = []\n",
    "    for i in range(75):\n",
    "        P_harr_hist.append(P_harr(bins[i],bins[i+1],2**qubit_num))\n",
    "        \n",
    "    return P_harr_hist\n",
    "    "
   ]
  },
  {
   "cell_type": "markdown",
   "id": "92d3e45e",
   "metadata": {},
   "source": [
    "## Fidelities"
   ]
  },
  {
   "cell_type": "code",
   "execution_count": 3,
   "id": "a7adbffc",
   "metadata": {},
   "outputs": [],
   "source": [
    "def get_fidelity(circuit):\n",
    "    backend = Aer.get_backend('qasm_simulator')\n",
    "    qubit_num = 1\n",
    "    nshot = 3000\n",
    "    nparam = 3000\n",
    "    fidelity = []\n",
    "\n",
    "    for x in range(nparam):\n",
    "    \n",
    "        theta = [];\n",
    "        for y in range(80):\n",
    "            theta.append(2*pi*random())\n",
    "        \n",
    "        qc = circuit(theta)    \n",
    "    \n",
    "        job = backend.run(qc,shots=nshot)\n",
    "        result = job.result()\n",
    "        count = result.get_counts()\n",
    "\n",
    "        if '0' in count:\n",
    "            ratio=count['0']/nshot\n",
    "        else:\n",
    "            ratio=0\n",
    "        fidelity.append(ratio)\n",
    "        \n",
    "    return fidelity\n"
   ]
  },
  {
   "cell_type": "markdown",
   "id": "13d12ee8",
   "metadata": {},
   "source": [
    "## circuit1"
   ]
  },
  {
   "cell_type": "code",
   "execution_count": 4,
   "id": "38437ee1",
   "metadata": {},
   "outputs": [
    {
     "data": {
      "image/png": "[encoded data removed]",
      "text/plain": [
       "<Figure size 266.907x144.48 with 1 Axes>"
      ]
     },
     "execution_count": 4,
     "metadata": {},
     "output_type": "execute_result"
    }
   ],
   "source": [
    "def circuit1(theta):\n",
    "    qr = QuantumRegister(1)\n",
    "    cr = ClassicalRegister(1)\n",
    "    qc = QuantumCircuit(qr, cr)\n",
    "    \n",
    "    qc.h(0)\n",
    "    qc.rz(theta[0],0)\n",
    "        \n",
    "    qc.measure(qr[:],cr[:])\n",
    "    return qc\n",
    "\n",
    "theta=[];\n",
    "for _ in range(80):\n",
    "    theta.append(2*pi*random())\n",
    "circuit1(theta).draw('mpl')"
   ]
  },
  {
   "cell_type": "code",
   "execution_count": 5,
   "id": "720a4d50",
   "metadata": {},
   "outputs": [],
   "source": [
    "fidelity = get_fidelity(circuit1)"
   ]
  },
  {
   "cell_type": "code",
   "execution_count": 6,
   "id": "cab3824c",
   "metadata": {},
   "outputs": [
    {
     "name": "stdout",
     "output_type": "stream",
     "text": [
      "KL(P || Q): 3.217 nats\n"
     ]
    }
   ],
   "source": [
    "weights = np.ones_like(fidelity)/float(len(fidelity))\n",
    "P_1_hist = np.histogram(fidelity, bins=bins_list, weights=weights, range=[0, 1])[0]\n",
    "harr_hist = P_harr_hist(bins=bins_list)\n",
    "kl_pq = rel_entr(P_1_hist, harr_hist)\n",
    "print('KL(P || Q): %.3f nats' % sum(kl_pq))"
   ]
  },
  {
   "cell_type": "code",
   "execution_count": 7,
   "id": "c2100b0e",
   "metadata": {},
   "outputs": [
    {
     "data": {
      "image/png": "[encoded data removed]",
      "text/plain": [
       "<Figure size 432x288 with 1 Axes>"
      ]
     },
     "metadata": {
      "needs_background": "light"
     },
     "output_type": "display_data"
    }
   ],
   "source": [
    "plt.hist(fidelity, bins=bins_list, weights=weights, range=[0, 1], label='Circuit 1')\n",
    "plt.plot(bins_x, harr_hist, label='Harr')\n",
    "plt.xlabel('F',fontsize=15)\n",
    "plt.ylabel('P',fontsize=15)\n",
    "plt.legend(loc='upper right')\n",
    "plt.show()"
   ]
  },
  {
   "cell_type": "markdown",
   "id": "aa1e85e4",
   "metadata": {},
   "source": [
    "## circuit 2"
   ]
  },
  {
   "cell_type": "code",
   "execution_count": 8,
   "id": "f29fe442",
   "metadata": {},
   "outputs": [
    {
     "data": {
      "image/png": "[encoded data removed]",
      "text/plain": [
       "<Figure size 366.485x144.48 with 1 Axes>"
      ]
     },
     "execution_count": 8,
     "metadata": {},
     "output_type": "execute_result"
    }
   ],
   "source": [
    "def circuit2(theta):\n",
    "    qr = QuantumRegister(1)\n",
    "    cr = ClassicalRegister(1)\n",
    "    qc = QuantumCircuit(qr, cr)\n",
    "    \n",
    "    qc.h(0)\n",
    "    qc.rz(theta[0],0)\n",
    "    qc.rx(theta[1],0)\n",
    "        \n",
    "    qc.measure(qr[:],cr[:])\n",
    "    return qc\n",
    "\n",
    "theta=[];\n",
    "for _ in range(80):\n",
    "    theta.append(2*pi*random())\n",
    "circuit2(theta).draw('mpl')"
   ]
  },
  {
   "cell_type": "code",
   "execution_count": 9,
   "id": "cfaa022e",
   "metadata": {},
   "outputs": [],
   "source": [
    "fidelity = get_fidelity(circuit2)"
   ]
  },
  {
   "cell_type": "code",
   "execution_count": 10,
   "id": "752840f2",
   "metadata": {},
   "outputs": [
    {
     "name": "stdout",
     "output_type": "stream",
     "text": [
      "KL(P || Q): 0.059 nats\n"
     ]
    }
   ],
   "source": [
    "weights = np.ones_like(fidelity)/float(len(fidelity))\n",
    "P_1_hist = np.histogram(fidelity, bins=bins_list, weights=weights, range=[0, 1])[0]\n",
    "harr_hist = P_harr_hist(bins=bins_list)\n",
    "kl_pq = rel_entr(P_1_hist, harr_hist)\n",
    "print('KL(P || Q): %.3f nats' % sum(kl_pq))"
   ]
  },
  {
   "cell_type": "code",
   "execution_count": 11,
   "id": "1c647096",
   "metadata": {},
   "outputs": [
    {
     "data": {
      "image/png": "[encoded data removed]",
      "text/plain": [
       "<Figure size 432x288 with 1 Axes>"
      ]
     },
     "metadata": {
      "needs_background": "light"
     },
     "output_type": "display_data"
    }
   ],
   "source": [
    "plt.hist(fidelity, bins=bins_list, weights=weights, range=[0, 1], label='Circuit 1')\n",
    "plt.plot(bins_x, harr_hist, label='Harr')\n",
    "plt.xlabel('F',fontsize=15)\n",
    "plt.ylabel('P',fontsize=15)\n",
    "plt.legend(loc='upper right')\n",
    "plt.show()"
   ]
  },
  {
   "cell_type": "code",
   "execution_count": 12,
   "id": "51e1fa64",
   "metadata": {},
   "outputs": [
    {
     "data": {
      "text/html": [
       "<h3>Version Information</h3><table><tr><th>Qiskit Software</th><th>Version</th></tr><tr><td><code>qiskit-terra</code></td><td>0.21.0</td></tr><tr><td><code>qiskit-aer</code></td><td>0.10.4</td></tr><tr><td><code>qiskit-ignis</code></td><td>0.7.0</td></tr><tr><td><code>qiskit-ibmq-provider</code></td><td>0.19.2</td></tr><tr><td><code>qiskit</code></td><td>0.37.0</td></tr><tr><td><code>qiskit-nature</code></td><td>0.3.0</td></tr><tr><td><code>qiskit-finance</code></td><td>0.3.0</td></tr><tr><td><code>qiskit-optimization</code></td><td>0.3.0</td></tr><tr><td><code>qiskit-machine-learning</code></td><td>0.3.0</td></tr><tr><th>System information</th></tr><tr><td>Python version</td><td>3.7.10</td></tr><tr><td>Python compiler</td><td>GCC 7.3.0</td></tr><tr><td>Python build</td><td>default, Feb 26 2021 18:47:35</td></tr><tr><td>OS</td><td>Linux</td></tr><tr><td>CPUs</td><td>4</td></tr><tr><td>Memory (Gb)</td><td>7.406494140625</td></tr><tr><td colspan='2'>Thu Oct 06 00:55:26 2022 JST</td></tr></table>"
      ],
      "text/plain": [
       "<IPython.core.display.HTML object>"
      ]
     },
     "metadata": {},
     "output_type": "display_data"
    }
   ],
   "source": [
    "import qiskit.tools.jupyter\n",
    "%qiskit_version_table"
   ]
  }
 ],
 "metadata": {
  "kernelspec": {
   "display_name": "python3.7",
   "language": "python",
   "name": "python3.7"
  },
  "language_info": {
   "codemirror_mode": {
    "name": "ipython",
    "version": 3
   },
   "file_extension": ".py",
   "mimetype": "text/x-python",
   "name": "python",
   "nbconvert_exporter": "python",
   "pygments_lexer": "ipython3",
   "version": "3.7.10"
  }
 },
 "nbformat": 4,
 "nbformat_minor": 5
}
