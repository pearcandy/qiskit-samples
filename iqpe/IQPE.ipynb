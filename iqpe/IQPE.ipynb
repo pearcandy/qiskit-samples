{
 "cells": [
  {
   "cell_type": "markdown",
   "id": "0d2b2fb3",
   "metadata": {},
   "source": [
    "## IQPE\n",
    "\n",
    "Iterative Quantum Phase Estimation"
   ]
  },
  {
   "cell_type": "markdown",
   "id": "b56c7a19",
   "metadata": {},
   "source": [
    "The iterative quantum phase estimation (IQPE, also known as IPEA) algorithm is a quantum \n",
    "algorithm for estimating the phase (or eigenvalue) of an eigenvector of a unitary \n",
    "operator [1, 2]. One of the main applications of the algorithm is to estimate eigenvalues (energies) \n",
    "of some molecule's Hamiltonian  $H$. \n",
    "Because $H$ is a Hermitian operator, not unitary, (the algorithm works only with unitary operators) we can't estimate directly its eigenvalues. \n",
    "\n",
    "Instead, we create some unitary operator from $H$ and estimate not the eigenvalues of $H$ , but something different (the phase). From the estimated phase one can obtain the corresponding eigenvalue of $H$.\n",
    "So, in the end, we are not only estimating the phase but, what is more important, the desired eigenvalue. Here are the main steps of the algorithm:"
   ]
  },
  {
   "cell_type": "markdown",
   "id": "cf59525b",
   "metadata": {},
   "source": [
    "### Create unitary operator $U$ from given $H$:"
   ]
  },
  {
   "cell_type": "markdown",
   "id": "a5033df4",
   "metadata": {},
   "source": [
    "$$U=\\exp(iHt)$$\n",
    "\n",
    "$t$ is a parameter"
   ]
  },
  {
   "cell_type": "markdown",
   "id": "228cfe0b",
   "metadata": {},
   "source": [
    "### Apply $U$ on the eignestate $|\\psi_k\\rangle$ of $H$. "
   ]
  },
  {
   "cell_type": "markdown",
   "id": "beea9417",
   "metadata": {},
   "source": [
    "For simplicity, we will assume that the eigenvalue is given:\n",
    "\n",
    "$$U|\\psi_k\\rangle=\\exp(iHt)|\\psi_k\\rangle$$\n",
    "\n",
    "From the Taylor series for exponent we have:"
   ]
  },
  {
   "cell_type": "markdown",
   "id": "248c5586",
   "metadata": {},
   "source": [
    "$$ \\exp(iHt)|\\psi_k\\rangle=itH|\\psi_k\\rangle -\\frac{t^2}{2}H^2|\\psi_k\\rangle + \\frac{t^4}{4}H^4|\\psi_k\\rangle -\\cdots$$"
   ]
  },
  {
   "cell_type": "markdown",
   "id": "420fbfa9",
   "metadata": {},
   "source": [
    "And by using the Schrodinger equation $H|\\psi_k\\rangle = E_k|\\psi_k\\rangle$, we will obtain:"
   ]
  },
  {
   "cell_type": "markdown",
   "id": "35e7e7dc",
   "metadata": {},
   "source": [
    "$$\\exp(iHt)|\\psi_k\\rangle = \\exp(iE_kt)|\\psi_k\\rangle$$"
   ]
  },
  {
   "cell_type": "markdown",
   "id": "8a81f170",
   "metadata": {},
   "source": [
    "where, $E_k$ is the eigenvalue of the corresponding $|\\psi_k\\rangle$ eigenstate.\n",
    "The goal of the algorithm is to find $E_k$."
   ]
  },
  {
   "cell_type": "markdown",
   "id": "aa8bfee3",
   "metadata": {},
   "source": [
    "### Estimate $E_k$ from phase"
   ]
  },
  {
   "cell_type": "markdown",
   "id": "0c2901ab",
   "metadata": {},
   "source": [
    "$$\\exp(iHt)|\\psi_k\\rangle = \\exp(iE_kt)|\\psi_k\\rangle=\\exp(i2\\pi\\phi_k)|\\psi_k\\rangle$$"
   ]
  },
  {
   "cell_type": "markdown",
   "id": "ae05c19d",
   "metadata": {},
   "source": [
    "where $\\phi_k = E_kt/2\\pi$ is the phase that the algorithm is capable to estimate.\n",
    "After estimating the phase it will be easy to estimate the corresponding eigenvalue:"
   ]
  },
  {
   "cell_type": "markdown",
   "id": "997682dc",
   "metadata": {},
   "source": [
    "$$E_k=\\frac{2\\pi\\phi_k}{t}$$"
   ]
  },
  {
   "cell_type": "markdown",
   "id": "0cac95cb",
   "metadata": {},
   "source": [
    "## Implementation"
   ]
  },
  {
   "cell_type": "code",
   "execution_count": 1,
   "id": "0ffeece0",
   "metadata": {},
   "outputs": [],
   "source": [
    "import numpy as np\n",
    "from random import random\n",
    "from qiskit import *"
   ]
  },
  {
   "cell_type": "code",
   "execution_count": 2,
   "id": "2e9df308",
   "metadata": {},
   "outputs": [],
   "source": [
    "backend = BasicAer.get_backend('qasm_simulator')\n",
    "q = QuantumRegister(1)\n",
    "a = QuantumRegister(1)\n",
    "c = ClassicalRegister(1)"
   ]
  },
  {
   "cell_type": "code",
   "execution_count": 3,
   "id": "a8ef2810",
   "metadata": {},
   "outputs": [
    {
     "name": "stdout",
     "output_type": "stream",
     "text": [
      "We are going to estimate E_2 via IQPE algorithm \n",
      "E_2 = 6.224575985827047\n"
     ]
    }
   ],
   "source": [
    "E_1, E_2 = (2 * np.pi * random(), 2 * np.pi * random())\n",
    "print(\"We are going to estimate E_2 via IQPE algorithm \\nE_2 = {}\".format(E_2))"
   ]
  },
  {
   "cell_type": "code",
   "execution_count": 4,
   "id": "363b6c2e",
   "metadata": {},
   "outputs": [
    {
     "data": {
      "text/plain": [
       "<qiskit.circuit.instructionset.InstructionSet at 0x7f572896b520>"
      ]
     },
     "execution_count": 4,
     "metadata": {},
     "output_type": "execute_result"
    }
   ],
   "source": [
    "# circuit for unitary operator exp(iHt)\n",
    "t = 1\n",
    "unitary = QuantumCircuit(q)\n",
    "\n",
    "unitary.p(E_2 * t, q[0]) # q[0] is the only qubit in q register\n",
    "unitary.x(q[0])\n",
    "unitary.p(E_1 * t, q[0])\n",
    "unitary.x(q[0])"
   ]
  },
  {
   "cell_type": "markdown",
   "id": "230b4a1f",
   "metadata": {},
   "source": [
    "where "
   ]
  },
  {
   "cell_type": "markdown",
   "id": "30b9a306",
   "metadata": {},
   "source": [
    "$$p(\\lambda)= \\left(\n",
    "\\begin{matrix} \n",
    "1 & 0 \\\\ \n",
    "0 & e^{i\\lambda} \n",
    "\\end{matrix} \n",
    "\\right),\\ \\ \\ \\ \\ X= \\left(\n",
    "\\begin{matrix} \n",
    "0 & 1 \\\\ \n",
    "1 & 0 \n",
    "\\end{matrix} \n",
    "\\right) $$"
   ]
  },
  {
   "cell_type": "code",
   "execution_count": 5,
   "id": "770b41f5",
   "metadata": {},
   "outputs": [
    {
     "data": {
      "text/html": [
       "<pre style=\"word-wrap: normal;white-space: pre;background: #fff0;line-height: 1.1;font-family: &quot;Courier New&quot;,Courier,monospace\">    ┌───────────┐┌───┐┌───────────┐┌───┐\n",
       "q0: ┤ P(6.2246) ├┤ X ├┤ P(2.6126) ├┤ X ├\n",
       "    └───────────┘└───┘└───────────┘└───┘</pre>"
      ],
      "text/plain": [
       "    ┌───────────┐┌───┐┌───────────┐┌───┐\n",
       "q0: ┤ P(6.2246) ├┤ X ├┤ P(2.6126) ├┤ X ├\n",
       "    └───────────┘└───┘└───────────┘└───┘"
      ]
     },
     "execution_count": 5,
     "metadata": {},
     "output_type": "execute_result"
    }
   ],
   "source": [
    "unitary.draw()"
   ]
  },
  {
   "cell_type": "markdown",
   "id": "347fe781",
   "metadata": {},
   "source": [
    "The above unitary circuit means one qubit quantum state $\\psi$"
   ]
  },
  {
   "cell_type": "markdown",
   "id": "13f8ce75",
   "metadata": {},
   "source": [
    "$$ e^{iHt}|\\psi\\rangle = c_1 e^{iE_1 t}|0\\rangle + c_2 e^{iE_2t}|1\\rangle $$"
   ]
  },
  {
   "cell_type": "code",
   "execution_count": 6,
   "id": "52ba1572",
   "metadata": {},
   "outputs": [],
   "source": [
    "# create the circuit for the  control version of the exp(iHt) unitary\n",
    "control_u = unitary.to_gate().control()"
   ]
  },
  {
   "cell_type": "code",
   "execution_count": 7,
   "id": "472a58e7",
   "metadata": {},
   "outputs": [
    {
     "data": {
      "text/plain": [
       "<qiskit.circuit.instructionset.InstructionSet at 0x7f572887a8e0>"
      ]
     },
     "execution_count": 7,
     "metadata": {},
     "output_type": "execute_result"
    }
   ],
   "source": [
    "k_circ = QuantumCircuit(a, q, c)\n",
    "k_circ.x(q[0])\n",
    "k_circ.h(a[0])\n",
    "k_circ.append(control_u,[0,1])\n",
    "k_circ.p(-np.pi,a[0])\n",
    "k_circ.h(a[0])\n",
    "k_circ.measure(a[0],c[0])"
   ]
  },
  {
   "cell_type": "code",
   "execution_count": 8,
   "id": "44d431c9",
   "metadata": {},
   "outputs": [
    {
     "data": {
      "image/png": "[encoded data removed]",
      "text/plain": [
       "<Figure size 447.652x204.68 with 1 Axes>"
      ]
     },
     "execution_count": 8,
     "metadata": {},
     "output_type": "execute_result"
    }
   ],
   "source": [
    "k_circ.draw('mpl')"
   ]
  },
  {
   "cell_type": "code",
   "execution_count": 31,
   "id": "051e2310",
   "metadata": {},
   "outputs": [],
   "source": [
    "num_bits_estimate = 10\n",
    "phase = 0\n",
    "for k_precision in reversed(range(num_bits_estimate)):\n",
    "    # Create a Quantum Circuit acting on the q register\n",
    "    k_circ = QuantumCircuit(a, q, c)\n",
    "\n",
    "    # (1) |1> eigenstate initialization\n",
    "    k_circ.x(q[0])\n",
    "\n",
    "    # (2) Initial Hadamard gate applied on ancillary qubit.\n",
    "    k_circ.h(a[0])\n",
    "\n",
    "    # (3) The control Hamiltonian applied on the qubits where control qubit is the ancillary qubit.\n",
    "    for order in range(2 ** k_precision):\n",
    "        k_circ.append(control_u,[0,1])\n",
    "\n",
    "    # (4) The phase gate and final Hadamard gate on ancillary qubit.\n",
    "    phase_shift = 2 * np.pi * phase * 2 ** k_precision\n",
    "    k_circ.p(-phase_shift, a[0])\n",
    "    k_circ.h(a[0])\n",
    "\n",
    "    # (5) Measurement of ancillary qubit (findig the bit)\n",
    "    k_circ.measure(a[0], c[0])\n",
    "\n",
    "    # (6) executing on Quantum Computer and finding a bit from the phase\n",
    "    job = execute(k_circ, backend, shots=10000)\n",
    "    result = job.result()\n",
    "    counts = result.get_counts()\n",
    "    value = int(max(counts, key=counts.get))\n",
    "\n",
    "    # (7) phase after this iteration\n",
    "    phase += value / 2 ** (k_precision + 1)"
   ]
  },
  {
   "cell_type": "code",
   "execution_count": 32,
   "id": "1aaa4b48",
   "metadata": {},
   "outputs": [
    {
     "name": "stdout",
     "output_type": "stream",
     "text": [
      "Eigenvalue of the Hamiltonian: 6.224575985827047\n",
      "Estimated eigenvalue of the Hamiltonian: 6.22182607566416\n"
     ]
    }
   ],
   "source": [
    "eigenvalue = 2 * np.pi * phase / t\n",
    "print(\"Eigenvalue of the Hamiltonian: {}\".format(E_2))\n",
    "print(\"Estimated eigenvalue of the Hamiltonian: {}\".format(eigenvalue))"
   ]
  },
  {
   "cell_type": "code",
   "execution_count": null,
   "id": "859020d2",
   "metadata": {},
   "outputs": [],
   "source": []
  }
 ],
 "metadata": {
  "kernelspec": {
   "display_name": "Python 3 (ipykernel)",
   "language": "python",
   "name": "python3"
  },
  "language_info": {
   "codemirror_mode": {
    "name": "ipython",
    "version": 3
   },
   "file_extension": ".py",
   "mimetype": "text/x-python",
   "name": "python",
   "nbconvert_exporter": "python",
   "pygments_lexer": "ipython3",
   "version": "3.8.13"
  }
 },
 "nbformat": 4,
 "nbformat_minor": 5
}
