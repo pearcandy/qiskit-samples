{
 "cells": [
  {
   "cell_type": "markdown",
   "id": "93e588e3",
   "metadata": {},
   "source": [
    "## Check of qiskit functions\n",
    "- Quantum circuit initialize function  \n",
    "https://qiskit.org/documentation/stubs/qiskit.circuit.QuantumCircuit.initialize.html\n",
    "- controlled swap gate"
   ]
  },
  {
   "cell_type": "code",
   "execution_count": 39,
   "id": "7262a362",
   "metadata": {},
   "outputs": [],
   "source": [
    "import numpy as np\n",
    "from qiskit import QuantumCircuit\n",
    "from qiskit import Aer"
   ]
  },
  {
   "cell_type": "markdown",
   "id": "85cb25be",
   "metadata": {},
   "source": [
    "## Initialization\n",
    "#### single qubit case"
   ]
  },
  {
   "cell_type": "code",
   "execution_count": 41,
   "id": "c779c462",
   "metadata": {},
   "outputs": [
    {
     "data": {
      "text/plain": [
       "<qiskit.circuit.instructionset.InstructionSet at 0x7f9f0505d580>"
      ]
     },
     "execution_count": 41,
     "metadata": {},
     "output_type": "execute_result"
    }
   ],
   "source": [
    "circuit = QuantumCircuit(1,1)\n",
    "theta = np.pi/6\n",
    "#circuit.initialize([1/np.sqrt(2), -1/np.sqrt(2)],0)\n",
    "circuit.initialize([np.cos(theta), np.sin(theta)],0)\n",
    "circuit.measure(0,0)"
   ]
  },
  {
   "cell_type": "code",
   "execution_count": 42,
   "id": "c884ec02",
   "metadata": {},
   "outputs": [
    {
     "data": {
      "image/png": "[encoded data removed]",
      "text/plain": [
       "<Figure size 253.926x144.48 with 1 Axes>"
      ]
     },
     "execution_count": 42,
     "metadata": {},
     "output_type": "execute_result"
    }
   ],
   "source": [
    "circuit.draw('mpl')"
   ]
  },
  {
   "cell_type": "code",
   "execution_count": 43,
   "id": "7110eb04",
   "metadata": {},
   "outputs": [
    {
     "name": "stdout",
     "output_type": "stream",
     "text": [
      "{'0': 7501, '1': 2499}\n"
     ]
    }
   ],
   "source": [
    "## results\n",
    "shots = 10000\n",
    "backend = Aer.get_backend('qasm_simulator')\n",
    "job = backend.run(circuit,shots=shots)\n",
    "job_result = job.result()\n",
    "counts = job_result.get_counts(circuit)\n",
    "print(counts)"
   ]
  },
  {
   "cell_type": "markdown",
   "id": "da128b02",
   "metadata": {},
   "source": [
    "## Initialization2\n",
    "#### multi qubit"
   ]
  },
  {
   "cell_type": "code",
   "execution_count": 44,
   "id": "777e113e",
   "metadata": {},
   "outputs": [],
   "source": [
    "A = np.array([2,9,8,5])\n",
    "B = np.array([7,5,10,3])\n",
    "\n",
    "norm_A = np.sqrt(np.sum(A**2))\n",
    "norm_B = np.sqrt(np.sum(B**2))\n",
    "Dist = np.sqrt(np.sum((A-B)**2))\n",
    "\n",
    "Z = norm_A**2 + norm_B**2\n",
    "\n",
    "phi = [norm_A/np.sqrt(Z), -norm_B/np.sqrt(Z)]\n",
    "psi_0 = A/norm_A/np.sqrt(2)\n",
    "psi_1 = B/norm_B/np.sqrt(2)\n",
    "\n",
    "psi = []\n",
    "for i in range(len(A)):\n",
    "    psi.append(psi_0[i])\n",
    "    psi.append(psi_1[i])"
   ]
  },
  {
   "cell_type": "code",
   "execution_count": 45,
   "id": "91104ce4",
   "metadata": {},
   "outputs": [],
   "source": [
    "def normalize(vec):\n",
    "    norm = np.sqrt(np.sum(np.array(vec)**2))\n",
    "    return np.array(vec)/norm"
   ]
  },
  {
   "cell_type": "code",
   "execution_count": 46,
   "id": "16443358",
   "metadata": {},
   "outputs": [],
   "source": [
    "import matplotlib.pyplot as plt\n",
    "from qiskit.visualization import plot_histogram"
   ]
  },
  {
   "cell_type": "code",
   "execution_count": 119,
   "id": "23a0364a",
   "metadata": {},
   "outputs": [
    {
     "name": "stdout",
     "output_type": "stream",
     "text": [
      "0.6666666666666669 0.1666666666666667\n"
     ]
    },
    {
     "data": {
      "image/png": "[encoded data removed]",
      "text/plain": [
       "<Figure size 547.666x385.28 with 1 Axes>"
      ]
     },
     "execution_count": 119,
     "metadata": {},
     "output_type": "execute_result"
    }
   ],
   "source": [
    "import numpy as np\n",
    "from qiskit import QuantumCircuit, QuantumRegister, ClassicalRegister\n",
    "\n",
    "circuit0 = QuantumRegister(1)\n",
    "circuit1 = QuantumRegister(1)\n",
    "circuit2 = QuantumRegister(3)\n",
    "c = ClassicalRegister(1)\n",
    "circuit = QuantumCircuit(circuit0, circuit1, circuit2,c)\n",
    "#circuit.initialize([0, np.cos(theta), np.sin(theta), 0], circuit.qubits)\n",
    "#circuit.initialize([0,1,0,0], circuit.qubits)\n",
    "#circuit.initialize(psi, circuit1)\n",
    "circuit.initialize(normalize([1,1]), circuit1)\n",
    "psi = normalize([2,1,0,0,0,0,0,1])\n",
    "circuit.initialize(psi, circuit2)\n",
    "\n",
    "print(psi[0]**2, psi[1]**2)\n",
    "#\n",
    "circuit.x(circuit0[0])\n",
    "#circuit.h(circuit0[0])\n",
    "\n",
    "#cswap\n",
    "circuit.cswap(circuit0[0], circuit1[0], circuit2[0])\n",
    "\n",
    "#\n",
    "circuit.barrier()\n",
    "#\n",
    "circuit.measure(circuit1,c)\n",
    "circuit.draw('mpl')\n"
   ]
  },
  {
   "cell_type": "code",
   "execution_count": 120,
   "id": "77ac3e74",
   "metadata": {},
   "outputs": [
    {
     "name": "stdout",
     "output_type": "stream",
     "text": [
      "{'1': 3417, '0': 6583}\n"
     ]
    }
   ],
   "source": [
    "## results\n",
    "shots = 10000\n",
    "backend = Aer.get_backend('qasm_simulator')\n",
    "job = backend.run(circuit,shots=shots)\n",
    "job_result = job.result()\n",
    "counts = job_result.get_counts(circuit)\n",
    "print(counts)"
   ]
  },
  {
   "cell_type": "code",
   "execution_count": 121,
   "id": "c7eb2189",
   "metadata": {},
   "outputs": [
    {
     "data": {
      "image/png": "[encoded data removed]",
      "text/plain": [
       "<Figure size 504x360 with 1 Axes>"
      ]
     },
     "execution_count": 121,
     "metadata": {},
     "output_type": "execute_result"
    }
   ],
   "source": [
    "plot_histogram(counts)"
   ]
  },
  {
   "cell_type": "code",
   "execution_count": 50,
   "id": "6cd7e487",
   "metadata": {},
   "outputs": [
    {
     "data": {
      "text/html": [
       "<h3>Version Information</h3><table><tr><th>Qiskit Software</th><th>Version</th></tr><tr><td><code>qiskit-terra</code></td><td>0.21.2</td></tr><tr><td><code>qiskit-aer</code></td><td>0.11.0</td></tr><tr><td><code>qiskit-ignis</code></td><td>0.4.0</td></tr><tr><td><code>qiskit-ibmq-provider</code></td><td>0.19.2</td></tr><tr><td><code>qiskit</code></td><td>0.38.0</td></tr><tr><td><code>qiskit-nature</code></td><td>0.4.5</td></tr><tr><td><code>qiskit-finance</code></td><td>0.3.4</td></tr><tr><td><code>qiskit-optimization</code></td><td>0.4.0</td></tr><tr><td><code>qiskit-machine-learning</code></td><td>0.4.0</td></tr><tr><th>System information</th></tr><tr><td>Python version</td><td>3.8.13</td></tr><tr><td>Python compiler</td><td>GCC 7.5.0</td></tr><tr><td>Python build</td><td>default, Mar 28 2022 11:38:47</td></tr><tr><td>OS</td><td>Linux</td></tr><tr><td>CPUs</td><td>4</td></tr><tr><td>Memory (Gb)</td><td>7.406520843505859</td></tr><tr><td colspan='2'>Fri Oct 14 15:34:25 2022 JST</td></tr></table>"
      ],
      "text/plain": [
       "<IPython.core.display.HTML object>"
      ]
     },
     "metadata": {},
     "output_type": "display_data"
    }
   ],
   "source": [
    "import qiskit.tools.jupyter\n",
    "%qiskit_version_table"
   ]
  }
 ],
 "metadata": {
  "kernelspec": {
   "display_name": "Python 3 (ipykernel)",
   "language": "python",
   "name": "python3"
  },
  "language_info": {
   "codemirror_mode": {
    "name": "ipython",
    "version": 3
   },
   "file_extension": ".py",
   "mimetype": "text/x-python",
   "name": "python",
   "nbconvert_exporter": "python",
   "pygments_lexer": "ipython3",
   "version": "3.8.13"
  }
 },
 "nbformat": 4,
 "nbformat_minor": 5
}
