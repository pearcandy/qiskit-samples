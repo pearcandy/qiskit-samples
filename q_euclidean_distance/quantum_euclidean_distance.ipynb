{
 "cells": [
  {
   "cell_type": "markdown",
   "id": "bc15355d",
   "metadata": {
    "slideshow": {
     "slide_type": "slide"
    }
   },
   "source": [
    "## Quantum Euclidean Distance\n",
    "\n",
    "ref)  \n",
    "Helen Urgelles  \n",
    "https://medium.com/qiskit/calculate-quantum-euclidean-distance-with-qiskit-df85525ab485  \n",
    "\n",
    "ref2)  \n",
    "Application of Quantum Computing to Accurate Positioning in 6G Indoor Scenarios  \n",
    "https://ieeexplore.ieee.org/document/9838523"
   ]
  },
  {
   "cell_type": "markdown",
   "id": "dc3c4e6a",
   "metadata": {
    "slideshow": {
     "slide_type": "slide"
    }
   },
   "source": [
    "- Euclidean space is the most fundamental way we represent space in geometry.\n",
    "- How do you calculate the quantum version of Euclidiean distance with Qiskit?\n",
    "- Earlier this year, I, along with Pablo Picazo-Martínez and Jose F.Monserrat, presented an indoor localization based on Quantum Euclidean Distance, programmed in Qiskit and executed on IBM Quantum systems"
   ]
  },
  {
   "cell_type": "markdown",
   "id": "af306f5b",
   "metadata": {
    "slideshow": {
     "slide_type": "slide"
    }
   },
   "source": [
    "## SWAP test\n",
    "\n",
    "- 1 quantum/classical register + 2 auxiliary quantum register for two quantum states $\\psi$ and $\\phi$\n",
    "- measure the probability $|0\\rangle$ state of 1 quantum register, $P_0=\\frac{1}{2}(1+\\langle \\psi|\\phi \\rangle)$\n",
    "- if $P_0=0.5$, $\\langle \\psi|\\phi \\rangle=0$(orthogonal). \n",
    "- if $P_0=1.0$, $\\langle \\psi|\\phi \\rangle=1$. "
   ]
  },
  {
   "cell_type": "code",
   "execution_count": 1,
   "id": "1d745c9b",
   "metadata": {
    "slideshow": {
     "slide_type": "slide"
    }
   },
   "outputs": [],
   "source": [
    "from qiskit import *\n",
    "from qiskit import BasicAer\n",
    "from qiskit import QuantumCircuit, ClassicalRegister, QuantumRegister, execute"
   ]
  },
  {
   "cell_type": "code",
   "execution_count": 2,
   "id": "4523d109",
   "metadata": {
    "slideshow": {
     "slide_type": "slide"
    }
   },
   "outputs": [
    {
     "data": {
      "image/png": "[encoded data removed]",
      "text/plain": [
       "<Figure size 422.212x264.88 with 1 Axes>"
      ]
     },
     "metadata": {},
     "output_type": "display_data"
    }
   ],
   "source": [
    "qreg = QuantumRegister(3, 'qreg')\n",
    "creg = ClassicalRegister(3, 'creg')\n",
    "qc = QuantumCircuit (qreg,creg)\n",
    "\n",
    "#Initial state |01> (big endian)\n",
    "qc.x(qreg[1])\n",
    "\n",
    "#swap_test\n",
    "qc.h(qreg[0]) #apply superposition on the auxiliary qubit\n",
    "qc.cswap(qreg[0], qreg[1], qreg[2]) # controlled-SWAP\n",
    "qc.h(qreg[0]) \n",
    "\n",
    "qc.barrier()\n",
    "qc.measure(qreg[0],creg[0])\n",
    "\n",
    "display(qc.draw(output=\"mpl\"))"
   ]
  },
  {
   "cell_type": "code",
   "execution_count": 3,
   "id": "8862d003",
   "metadata": {
    "slideshow": {
     "slide_type": "slide"
    }
   },
   "outputs": [
    {
     "name": "stdout",
     "output_type": "stream",
     "text": [
      "{'001': 509, '000': 515}\n"
     ]
    }
   ],
   "source": [
    "#result\n",
    "shots = 1024\n",
    "backend = Aer.get_backend('qasm_simulator')\n",
    "job = backend.run(qc,shots=shots)\n",
    "job_result = job.result()\n",
    "counts = job_result.get_counts(qc)\n",
    "print(counts)"
   ]
  },
  {
   "cell_type": "markdown",
   "id": "2685dbf1",
   "metadata": {
    "slideshow": {
     "slide_type": "slide"
    }
   },
   "source": [
    "The results agree with the SWAP test function, where if P|0> = 0.5 on the\n",
    "control qubit, this means that the states are orthogonal, and if P|0> = 1, then\n",
    "the states are identical."
   ]
  },
  {
   "cell_type": "markdown",
   "id": "5396563f",
   "metadata": {
    "slideshow": {
     "slide_type": "slide"
    }
   },
   "source": [
    "## Qunatum Euclidean Distance\n",
    "\n",
    "Once we have the SWAP test operator as a tool, we can use it to find the distance between two vectors on quantum computers.  \n",
    "\n",
    "Once the data is encoded, we can calculate the distance between states $\\psi$ and $\\phi$ with the help of the SWAP test operator. With A and B classical data vectors, let’s go through an example step by step:"
   ]
  },
  {
   "cell_type": "code",
   "execution_count": 4,
   "id": "38e26e21",
   "metadata": {
    "slideshow": {
     "slide_type": "slide"
    }
   },
   "outputs": [],
   "source": [
    "import numpy as np\n",
    "from qiskit import *\n",
    "from qiskit import BasicAer\n",
    "from qiskit import QuantumCircuit, ClassicalRegister, QuantumRegister"
   ]
  },
  {
   "cell_type": "markdown",
   "id": "89699300",
   "metadata": {
    "slideshow": {
     "slide_type": "slide"
    }
   },
   "source": [
    "### encoding the classical data asa quantum state $\\psi$ and $\\phi$"
   ]
  },
  {
   "cell_type": "code",
   "execution_count": 5,
   "id": "361ffa9f",
   "metadata": {
    "slideshow": {
     "slide_type": "slide"
    }
   },
   "outputs": [],
   "source": [
    "A = np.array([2,9,8,5])\n",
    "B = np.array([7,5,10,3])\n",
    "\n",
    "norm_A = np.sqrt(np.sum(A**2))\n",
    "norm_B = np.sqrt(np.sum(B**2))\n",
    "Dist = np.sqrt(np.sum((A-B)**2))\n",
    "\n",
    "Z = norm_A**2 + norm_B**2\n",
    "\n",
    "phi = [norm_A/np.sqrt(Z), -norm_B/np.sqrt(Z)]\n",
    "psi_0 = A/norm_A/np.sqrt(2)\n",
    "psi_1 = B/norm_B/np.sqrt(2)\n",
    "\n",
    "psi = []\n",
    "for i in range(len(A)):\n",
    "    psi.append(psi_0[i])\n",
    "    psi.append(psi_1[i])"
   ]
  },
  {
   "cell_type": "markdown",
   "id": "2d7a29bc",
   "metadata": {
    "slideshow": {
     "slide_type": "slide"
    }
   },
   "source": [
    "### make the quantum circuit"
   ]
  },
  {
   "cell_type": "code",
   "execution_count": 6,
   "id": "7ac06760",
   "metadata": {
    "slideshow": {
     "slide_type": "slide"
    }
   },
   "outputs": [
    {
     "data": {
      "image/png": "[encoded data removed]",
      "text/plain": [
       "<Figure size 641.669x385.28 with 1 Axes>"
      ]
     },
     "metadata": {},
     "output_type": "display_data"
    }
   ],
   "source": [
    "# Quantum Circuit\n",
    "q1 = QuantumRegister(1, 'q1')\n",
    "q2 = QuantumRegister(1, name = 'q2')\n",
    "q3 = QuantumRegister(3, name = 'q3')\n",
    "c = ClassicalRegister(1, name = 'c')\n",
    "qc = QuantumCircuit(q1,q2,q3,c)\n",
    "\n",
    "#States initialization\n",
    "qc.initialize(phi, q2)\n",
    "qc.initialize(psi, q3)\n",
    "\n",
    "#swap_test\n",
    "qc.h(q1)\n",
    "qc.cswap(q1[0], q2[0], q3[0])\n",
    "qc.h(q1) \n",
    "qc.measure(q1,c)\n",
    "\n",
    "display(qc.draw(output=\"mpl\"))"
   ]
  },
  {
   "cell_type": "code",
   "execution_count": 7,
   "id": "b0f24b59",
   "metadata": {
    "slideshow": {
     "slide_type": "slide"
    }
   },
   "outputs": [
    {
     "name": "stdout",
     "output_type": "stream",
     "text": [
      "{'0': 53436, '1': 46564}\n",
      "Quantum Distance:  7.005\n",
      "Euclidean Distance:  7.0\n",
      "Difference between Quantum and Euclidean distance:  0.004999999999999893\n"
     ]
    }
   ],
   "source": [
    "## results\n",
    "shots = 100000\n",
    "backend = Aer.get_backend('qasm_simulator')\n",
    "job = backend.run(qc,shots=shots)\n",
    "job_result = job.result()\n",
    "counts = job_result.get_counts(qc)\n",
    "print(counts)\n",
    "\n",
    "x = abs(((counts['0']/shots - 0.5)/0.5) * 2 * Z)\n",
    "Q_Dist = round(np.sqrt(x),4)\n",
    "print('Quantum Distance: ', round(Q_Dist,3))\n",
    "print('Euclidean Distance: ',round(Dist,3))\n",
    "print('Difference between Quantum and Euclidean distance: ', np.abs(round(Q_Dist,3)-round(Dist,3)))\n"
   ]
  },
  {
   "cell_type": "markdown",
   "id": "aa054fdb",
   "metadata": {
    "slideshow": {
     "slide_type": "slide"
    }
   },
   "source": [
    "The values obtained are almost equal. Since the results from a quantum computer are probabilistic, they may differ slightly. In any case, it still makes sense. We also think that one day, with large enough vector size, quantum may be able to outperform classical on this computation."
   ]
  },
  {
   "cell_type": "code",
   "execution_count": 8,
   "id": "f875a12f",
   "metadata": {
    "slideshow": {
     "slide_type": "slide"
    }
   },
   "outputs": [
    {
     "data": {
      "text/html": [
       "<h3>Version Information</h3><table><tr><th>Qiskit Software</th><th>Version</th></tr><tr><td><code>qiskit-terra</code></td><td>0.21.2</td></tr><tr><td><code>qiskit-aer</code></td><td>0.11.0</td></tr><tr><td><code>qiskit-ignis</code></td><td>0.4.0</td></tr><tr><td><code>qiskit-ibmq-provider</code></td><td>0.19.2</td></tr><tr><td><code>qiskit</code></td><td>0.38.0</td></tr><tr><td><code>qiskit-nature</code></td><td>0.4.5</td></tr><tr><td><code>qiskit-finance</code></td><td>0.3.4</td></tr><tr><td><code>qiskit-optimization</code></td><td>0.4.0</td></tr><tr><td><code>qiskit-machine-learning</code></td><td>0.4.0</td></tr><tr><th>System information</th></tr><tr><td>Python version</td><td>3.8.13</td></tr><tr><td>Python compiler</td><td>GCC 7.5.0</td></tr><tr><td>Python build</td><td>default, Mar 28 2022 11:38:47</td></tr><tr><td>OS</td><td>Linux</td></tr><tr><td>CPUs</td><td>4</td></tr><tr><td>Memory (Gb)</td><td>7.406520843505859</td></tr><tr><td colspan='2'>Fri Oct 14 10:55:02 2022 JST</td></tr></table>"
      ],
      "text/plain": [
       "<IPython.core.display.HTML object>"
      ]
     },
     "metadata": {},
     "output_type": "display_data"
    }
   ],
   "source": [
    "import qiskit.tools.jupyter\n",
    "%qiskit_version_table"
   ]
  }
 ],
 "metadata": {
  "celltoolbar": "Slideshow",
  "kernelspec": {
   "display_name": "Python 3 (ipykernel)",
   "language": "python",
   "name": "python3"
  },
  "language_info": {
   "codemirror_mode": {
    "name": "ipython",
    "version": 3
   },
   "file_extension": ".py",
   "mimetype": "text/x-python",
   "name": "python",
   "nbconvert_exporter": "python",
   "pygments_lexer": "ipython3",
   "version": "3.8.13"
  }
 },
 "nbformat": 4,
 "nbformat_minor": 5
}
