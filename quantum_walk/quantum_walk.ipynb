{
 "cells": [
  {
   "cell_type": "markdown",
   "id": "2f492053",
   "metadata": {
    "slideshow": {
     "slide_type": "slide"
    }
   },
   "source": [
    "# Quantum Walk\n",
    "\n",
    "### The First Quantized Version\n",
    "\n",
    "The first quantized version uses $\\log_2N$ qubits to represent the particle's position, where $N$ is the number of sites in the walk. For example, if $N=4$, we would use two qubis, and the basis states $|00\\rangle$, $|01\\rangle$, $|10\\rangle$, and $|11\\rangle$ would indicate the particle at the first, second, third, and fourth site, respectively. The first quantized version uses an additional qubit to store the velocity, or direction, of the particle. The state $|0xx\\rangle$ indicates the particle moving to the right, and the state $|1xx\\rangle$ indicates the particle moving to the left. Overall, the first quantized version requires $\\log_2 N+1$ qubits."
   ]
  },
  {
   "cell_type": "markdown",
   "id": "8354b728",
   "metadata": {
    "slideshow": {
     "slide_type": "slide"
    }
   },
   "source": [
    "![fig1](fig/fig1.png)\n",
    "\n",
    "A visualization of how the first quantized version utilizes qubits. Four sites are shown as circles and labelled using two qubits. The velocity is shown as two arrows, with the right-pointing arrow labblled by the $|0\\rangle$ state and corresponding to $a+1$ velocity, and the left-pointing arrow labelled by the $|1\\rangle$ sates and corresponding to $a-1$ velocity."
   ]
  },
  {
   "cell_type": "code",
   "execution_count": 2,
   "id": "776f84c7",
   "metadata": {
    "slideshow": {
     "slide_type": "slide"
    }
   },
   "outputs": [],
   "source": [
    "import random as rand\n",
    "import qiskit\n",
    "import numpy as np\n",
    "import matplotlib.pyplot as plt\n",
    "from qiskit.circuit import Parameter, QuantumCircuit\n",
    "from qiskit.circuit import QuantumRegister, ClassicalRegister\n",
    "from qiskit import Aer, quantum_info\n",
    "from qiskit.circuit.library import XGate, U3Gate"
   ]
  },
  {
   "cell_type": "code",
   "execution_count": 3,
   "id": "d9bb5d03",
   "metadata": {
    "slideshow": {
     "slide_type": "slide"
    }
   },
   "outputs": [],
   "source": [
    "backend = Aer.get_backend('aer_simulator')"
   ]
  },
  {
   "cell_type": "code",
   "execution_count": 4,
   "id": "47e48cfd",
   "metadata": {
    "slideshow": {
     "slide_type": "slide"
    }
   },
   "outputs": [
    {
     "data": {
      "text/plain": [
       "{'0': 532, '1': 492}"
      ]
     },
     "execution_count": 4,
     "metadata": {},
     "output_type": "execute_result"
    }
   ],
   "source": [
    "# velocity\n",
    "qc3 = QuantumCircuit(1)\n",
    "theta = np.pi*0.5\n",
    "phi = 0.0 # np.pi*0.5\n",
    "lam = 0.0 #-np.pi*0.5\n",
    "gate = U3Gate(theta,phi,lam,label='U3')\n",
    "qc3.append(gate,[0])\n",
    "qc3.measure_all()\n",
    "\n",
    "result = backend.run(qc3).result()\n",
    "result.get_counts()"
   ]
  },
  {
   "cell_type": "code",
   "execution_count": 5,
   "id": "ae6b8311",
   "metadata": {
    "slideshow": {
     "slide_type": "slide"
    }
   },
   "outputs": [
    {
     "data": {
      "image/png": "[encoded data removed]",
      "text/plain": [
       "<Figure size 882.178x264.88 with 1 Axes>"
      ]
     },
     "execution_count": 5,
     "metadata": {},
     "output_type": "execute_result"
    }
   ],
   "source": [
    "# N=4 circuit\n",
    "\n",
    "qr = QuantumRegister(3)\n",
    "cr = ClassicalRegister(2)\n",
    "qc = QuantumCircuit(qr,cr)\n",
    "qc.cx(qr[2],qr[0])\n",
    "qc.cx(qr[2],qr[1])\n",
    "qc.barrier()\n",
    "qc.cx(qr[0],qr[1])\n",
    "qc.x(qr[0])\n",
    "qc.barrier()\n",
    "qc.cx(qr[2],qr[1])\n",
    "qc.cx(qr[2],qr[0])\n",
    "\n",
    "theta = np.pi*0.5\n",
    "phi = np.pi*0.5\n",
    "lam = -np.pi*0.5\n",
    "gate = U3Gate(theta,phi,lam,label='U3')\n",
    "qc.append(gate,[2])\n",
    "qc.barrier()\n",
    "\n",
    "qc.measure(qr[0],cr[0])\n",
    "qc.measure(qr[1],cr[1])\n",
    "\n",
    "qc.draw('mpl')"
   ]
  },
  {
   "cell_type": "code",
   "execution_count": 6,
   "id": "b1465234",
   "metadata": {
    "slideshow": {
     "slide_type": "slide"
    }
   },
   "outputs": [],
   "source": [
    "result = backend.run(qc).result()\n",
    "counts = result.get_counts()"
   ]
  },
  {
   "cell_type": "code",
   "execution_count": 7,
   "id": "673979c2",
   "metadata": {
    "slideshow": {
     "slide_type": "slide"
    }
   },
   "outputs": [
    {
     "data": {
      "text/plain": [
       "{'01': 1024}"
      ]
     },
     "execution_count": 7,
     "metadata": {},
     "output_type": "execute_result"
    }
   ],
   "source": [
    "counts"
   ]
  },
  {
   "cell_type": "code",
   "execution_count": 8,
   "id": "b03e3e38",
   "metadata": {
    "slideshow": {
     "slide_type": "slide"
    }
   },
   "outputs": [],
   "source": [
    "def propagater():\n",
    "    qr = QuantumRegister(3)\n",
    "    cr = ClassicalRegister(2)\n",
    "    qc = QuantumCircuit(qr,cr)\n",
    "    qc.cx(qr[2],qr[0])\n",
    "    qc.cx(qr[2],qr[1])\n",
    "    qc.barrier()\n",
    "    qc.cx(qr[0],qr[1])\n",
    "    qc.x(qr[0])\n",
    "    qc.barrier()\n",
    "    qc.cx(qr[2],qr[1])\n",
    "    qc.cx(qr[2],qr[0])\n",
    "\n",
    "    theta = np.pi*0.5\n",
    "    phi = np.pi*0.5\n",
    "    lam = -np.pi*0.5\n",
    "    gate = U3Gate(theta,phi,lam,label='U3')\n",
    "    qc.append(gate,[2])\n",
    "    qc.barrier()\n",
    "    \n",
    "    return qc"
   ]
  },
  {
   "cell_type": "code",
   "execution_count": 9,
   "id": "78223fee",
   "metadata": {
    "slideshow": {
     "slide_type": "slide"
    }
   },
   "outputs": [],
   "source": [
    "a = propagater()\n",
    "a2 = propagater()"
   ]
  },
  {
   "cell_type": "markdown",
   "id": "414f3be5",
   "metadata": {
    "slideshow": {
     "slide_type": "slide"
    }
   },
   "source": [
    "## Under construction"
   ]
  },
  {
   "cell_type": "code",
   "execution_count": null,
   "id": "93fb4a71",
   "metadata": {},
   "outputs": [],
   "source": []
  },
  {
   "cell_type": "code",
   "execution_count": null,
   "id": "cd66d581",
   "metadata": {},
   "outputs": [],
   "source": []
  },
  {
   "cell_type": "code",
   "execution_count": null,
   "id": "a95b81f4",
   "metadata": {},
   "outputs": [],
   "source": []
  },
  {
   "cell_type": "code",
   "execution_count": null,
   "id": "851c08ab",
   "metadata": {},
   "outputs": [],
   "source": []
  },
  {
   "cell_type": "code",
   "execution_count": 10,
   "id": "51e1fa64",
   "metadata": {},
   "outputs": [
    {
     "data": {
      "text/html": [
       "<h3>Version Information</h3><table><tr><th>Qiskit Software</th><th>Version</th></tr><tr><td><code>qiskit-terra</code></td><td>0.21.0</td></tr><tr><td><code>qiskit-aer</code></td><td>0.10.4</td></tr><tr><td><code>qiskit-ignis</code></td><td>0.7.0</td></tr><tr><td><code>qiskit-ibmq-provider</code></td><td>0.19.2</td></tr><tr><td><code>qiskit</code></td><td>0.37.0</td></tr><tr><td><code>qiskit-nature</code></td><td>0.3.0</td></tr><tr><td><code>qiskit-finance</code></td><td>0.3.0</td></tr><tr><td><code>qiskit-optimization</code></td><td>0.3.0</td></tr><tr><td><code>qiskit-machine-learning</code></td><td>0.3.0</td></tr><tr><th>System information</th></tr><tr><td>Python version</td><td>3.7.10</td></tr><tr><td>Python compiler</td><td>GCC 7.3.0</td></tr><tr><td>Python build</td><td>default, Feb 26 2021 18:47:35</td></tr><tr><td>OS</td><td>Linux</td></tr><tr><td>CPUs</td><td>4</td></tr><tr><td>Memory (Gb)</td><td>7.406494140625</td></tr><tr><td colspan='2'>Thu Oct 06 20:47:09 2022 JST</td></tr></table>"
      ],
      "text/plain": [
       "<IPython.core.display.HTML object>"
      ]
     },
     "metadata": {},
     "output_type": "display_data"
    }
   ],
   "source": [
    "import qiskit.tools.jupyter\n",
    "%qiskit_version_table"
   ]
  },
  {
   "cell_type": "code",
   "execution_count": null,
   "id": "8bd668e0",
   "metadata": {},
   "outputs": [],
   "source": []
  }
 ],
 "metadata": {
  "celltoolbar": "Slideshow",
  "kernelspec": {
   "display_name": "python3.7",
   "language": "python",
   "name": "python3.7"
  },
  "language_info": {
   "codemirror_mode": {
    "name": "ipython",
    "version": 3
   },
   "file_extension": ".py",
   "mimetype": "text/x-python",
   "name": "python",
   "nbconvert_exporter": "python",
   "pygments_lexer": "ipython3",
   "version": "3.7.10"
  }
 },
 "nbformat": 4,
 "nbformat_minor": 5
}
