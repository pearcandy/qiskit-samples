{
 "cells": [
  {
   "cell_type": "markdown",
   "id": "0a02d62e",
   "metadata": {
    "slideshow": {
     "slide_type": "slide"
    }
   },
   "source": [
    "# SSVQE for H2 molucule\n",
    "\n",
    "- ScipyOptimizer\n",
    "- Qiskit algorithm optimizer\n",
    "- reference  \n",
    "K. Nakanishi, K. Mitarai, and K. Fujii, Phys. Rev. Research 1, 033062 (2019).\n",
    "\n",
    "- reference2  \n",
    "https://dojo.qulacs.org/ja/latest/notebooks/6.3_subspace_search_VQE.html\n"
   ]
  },
  {
   "cell_type": "code",
   "execution_count": 1,
   "id": "e0541584",
   "metadata": {},
   "outputs": [],
   "source": [
    "from qiskit_nature.settings import settings\n",
    "\n",
    "settings.dict_aux_operators = True"
   ]
  },
  {
   "cell_type": "code",
   "execution_count": 2,
   "id": "7dbd1701",
   "metadata": {
    "slideshow": {
     "slide_type": "slide"
    }
   },
   "outputs": [],
   "source": [
    "import numpy as np\n",
    "import pylab\n",
    "\n",
    "from qiskit import Aer\n",
    "from qiskit import QuantumCircuit\n",
    "\n",
    "from qiskit.opflow import I, X, Y, Z, StateFn, CircuitStateFn\n",
    "from qiskit.opflow.converters import CircuitSampler\n",
    "from qiskit.opflow.expectations import PauliExpectation, AerPauliExpectation\n",
    "\n",
    "from qiskit.algorithms import VQE, NumPyMinimumEigensolver\n",
    "from qiskit.algorithms.optimizers import COBYLA, L_BFGS_B, SLSQP, POWELL,SPSA\n",
    "\n",
    "from qiskit.utils import QuantumInstance, algorithm_globals\n",
    "from qiskit.circuit.library import TwoLocal\n",
    "from qiskit.circuit import QuantumCircuit, ParameterVector\n",
    "\n",
    "from qiskit_nature.drivers import UnitsType, Molecule                                                                   \n",
    "from qiskit_nature.drivers.second_quantization import ElectronicStructureDriverType, ElectronicStructureMoleculeDriver  \n",
    "from qiskit_nature.problems.second_quantization import ElectronicStructureProblem                                       \n",
    "from qiskit_nature.converters.second_quantization import QubitConverter                                                 \n",
    "from qiskit_nature.mappers.second_quantization import JordanWignerMapper, ParityMapper                                  \n",
    "from qiskit.providers.aer import StatevectorSimulator \n",
    "\n",
    "from qiskit.circuit.library import EfficientSU2\n",
    "\n",
    "from qiskit_nature.properties.second_quantization.electronic import (                                                   \n",
    "    ElectronicEnergy,                                                                                                   \n",
    "    ElectronicDipoleMoment,                                                                                             \n",
    "    ParticleNumber,                                                                                                     \n",
    "    AngularMomentum,                                                                                                    \n",
    "    Magnetization,                                                                                                      \n",
    ")                                                                                                                       \n",
    "\n",
    "import random"
   ]
  },
  {
   "cell_type": "markdown",
   "id": "7ed0e6c9",
   "metadata": {
    "slideshow": {
     "slide_type": "slide"
    }
   },
   "source": [
    "## Define H2 molecule\n",
    "\n",
    "- charge  \n",
    "0\n",
    "- multiplicity  \n",
    "2S+1 = 1\n",
    "- basis  \n",
    "sto3g\n",
    "- two-qubit reduction  \n",
    "True"
   ]
  },
  {
   "cell_type": "code",
   "execution_count": 3,
   "id": "8e1537c9",
   "metadata": {
    "slideshow": {
     "slide_type": "slide"
    }
   },
   "outputs": [],
   "source": [
    "charge = 0\n",
    "multiplicity = 1\n",
    "geometry = [['H',(0,0,0)],['H',(0.977,0,0)]]\n",
    "basis = 'sto3g'\n",
    "\n",
    "molecule = Molecule(geometry=geometry,                                                                     \n",
    "                    charge=charge,\n",
    "                    multiplicity=multiplicity)  \n",
    "\n",
    "# pyscf driver\n",
    "driver = ElectronicStructureMoleculeDriver(molecule,                                                                                                 \n",
    "                                           basis=basis,                                                                                           \n",
    "                                           driver_type=ElectronicStructureDriverType.PYSCF)                                                           \n",
    "properties = driver.run()                                                                                  \n",
    "particle_number = properties.get_property(ParticleNumber)                                                       \n",
    "electronic_energy = properties.get_property(ElectronicEnergy)\n",
    "nuclear_repulsion_energy = electronic_energy.nuclear_repulsion_energy\n",
    "\n",
    "# convert qubit hamiltonian\n",
    "es_problem = ElectronicStructureProblem(driver)        \n",
    "second_q_op = es_problem.second_q_ops()\n",
    "#qubit_converter = QubitConverter(mapper=JordanWignerMapper(),two_qubit_reduction=True)\n",
    "qubit_converter = QubitConverter(mapper=ParityMapper(), two_qubit_reduction=True)\n",
    "qubit_hamiltonian = qubit_converter.convert(second_q_op[\"ElectronicEnergy\"], num_particles=es_problem.num_particles)"
   ]
  },
  {
   "cell_type": "code",
   "execution_count": 4,
   "id": "ddc98f85",
   "metadata": {
    "slideshow": {
     "slide_type": "slide"
    }
   },
   "outputs": [],
   "source": [
    "def get_expectation_energy(qubit_hamiltonian,params,ansatz,shots=None):\n",
    "\n",
    "    \n",
    "    qc0 = QuantumCircuit(2)\n",
    "    qc0.append(ansatz.bind_parameters(params),[0,1])    \n",
    "    psi0 = CircuitStateFn(qc0)    \n",
    "\n",
    "    \n",
    "    qc1 = QuantumCircuit(2)\n",
    "    qc1.x(0)\n",
    "    qc1.append(ansatz.bind_parameters(params),[0,1])      \n",
    "    psi1 = CircuitStateFn(qc1)      \n",
    "    \n",
    "    # simulator background\n",
    "    measurable_expression0 = StateFn(qubit_hamiltonian, is_measurement=True).compose(psi0)\n",
    "    measurable_expression1 = StateFn(qubit_hamiltonian, is_measurement=True).compose(psi1)    \n",
    "    \n",
    "    if shots==None:\n",
    "        backend = Aer.get_backend('qasm_simulator',shots=1) \n",
    "        q_instance = QuantumInstance(backend)\n",
    "        \n",
    "        expectation0 = AerPauliExpectation().convert(measurable_expression0)\n",
    "        sampler0 = CircuitSampler(q_instance).convert(expectation0)     \n",
    "        energy0 = sampler0.eval().real\n",
    "\n",
    "        expectation1 = AerPauliExpectation().convert(measurable_expression1)\n",
    "        sampler1 = CircuitSampler(q_instance).convert(expectation1)     \n",
    "        energy1 = sampler1.eval().real\n",
    "        \n",
    "    else:\n",
    "        backend = Aer.get_backend('qasm_simulator',shots=shots) \n",
    "        q_instance = QuantumInstance(backend)\n",
    "        \n",
    "        expectation0 = PauliExpectation().convert(measurable_expression0)\n",
    "        sampler0 = CircuitSampler(q_instance).convert(expectation0) \n",
    "        energy0 = sampler0.eval().real\n",
    "    \n",
    "        expectation1 = AerPauliExpectation().convert(measurable_expression1)\n",
    "        sampler1 = CircuitSampler(q_instance).convert(expectation1)     \n",
    "        energy1 = sampler1.eval().real\n",
    "    \n",
    "    return energy0 + 0.5*energy1"
   ]
  },
  {
   "cell_type": "code",
   "execution_count": 5,
   "id": "d7a0e255",
   "metadata": {
    "slideshow": {
     "slide_type": "slide"
    }
   },
   "outputs": [],
   "source": [
    "def get_each_expectation_energy(qubit_hamiltonian,nuclear_repulsion_energy, params,ansatz,shots=None):\n",
    "\n",
    "    \n",
    "    qc0 = QuantumCircuit(2)\n",
    "    qc0.append(ansatz.bind_parameters(params),[0,1])    \n",
    "    psi0 = CircuitStateFn(qc0)    \n",
    "\n",
    "    \n",
    "    qc1 = QuantumCircuit(2)\n",
    "    qc1.x(0)\n",
    "    qc1.append(ansatz.bind_parameters(params),[0,1])      \n",
    "    psi1 = CircuitStateFn(qc1)      \n",
    "    \n",
    "    # simulator background\n",
    "    measurable_expression0 = StateFn(qubit_hamiltonian, is_measurement=True).compose(psi0)\n",
    "    measurable_expression1 = StateFn(qubit_hamiltonian, is_measurement=True).compose(psi1)    \n",
    "    \n",
    "    if shots==None:\n",
    "        backend = Aer.get_backend('statevector_simulator') \n",
    "        q_instance = QuantumInstance(backend)\n",
    "        expectation0 = AerPauliExpectation().convert(measurable_expression0)\n",
    "        sampler0 = CircuitSampler(q_instance).convert(expectation0)     \n",
    "        energy0 = sampler0.eval().real\n",
    "\n",
    "        expectation1 = AerPauliExpectation().convert(measurable_expression1)\n",
    "        sampler1 = CircuitSampler(q_instance).convert(expectation1)     \n",
    "        energy1 = sampler1.eval().real\n",
    "        \n",
    "    else:\n",
    "        backend = Aer.get_backend('qasm_simulator',shots=shots) \n",
    "        q_instance = QuantumInstance(backend)\n",
    "        expectation0 = PauliExpectation().convert(measurable_expression0)\n",
    "        sampler0 = CircuitSampler(q_instance).convert(expectation0) \n",
    "        energy0 = sampler0.eval().real\n",
    "    \n",
    "        expectation1 = AerPauliExpectation().convert(measurable_expression1)\n",
    "        sampler1 = CircuitSampler(q_instance).convert(expectation1)     \n",
    "        energy1 = sampler1.eval().real\n",
    "    \n",
    "    return energy0 + nuclear_repulsion_energy , energy1 + nuclear_repulsion_energy"
   ]
  },
  {
   "cell_type": "markdown",
   "id": "35f985ab",
   "metadata": {
    "slideshow": {
     "slide_type": "slide"
    }
   },
   "source": [
    "## ansatz\n",
    "\n",
    "- Hardware Efficient ansatz  \n",
    "Efficient SU2  \n",
    "https://qiskit.org/documentation/stubs/qiskit.circuit.library.EfficientSU2.html"
   ]
  },
  {
   "cell_type": "code",
   "execution_count": 6,
   "id": "9a370003",
   "metadata": {
    "scrolled": true,
    "slideshow": {
     "slide_type": "slide"
    }
   },
   "outputs": [],
   "source": [
    "ansatz = EfficientSU2(num_qubits=2,                                                                              \n",
    "                      reps=2,                                                                                   \n",
    "                      entanglement='linear',                                                                        \n",
    "                      insert_barriers=True)   "
   ]
  },
  {
   "cell_type": "code",
   "execution_count": 7,
   "id": "d162e5dd",
   "metadata": {},
   "outputs": [
    {
     "data": {
      "image/png": "[encoded data removed]",
      "text/plain": [
       "<Figure size 808.852x144.48 with 1 Axes>"
      ]
     },
     "execution_count": 7,
     "metadata": {},
     "output_type": "execute_result"
    }
   ],
   "source": [
    "ansatz.decompose().draw('mpl')"
   ]
  },
  {
   "cell_type": "markdown",
   "id": "48edb462",
   "metadata": {
    "slideshow": {
     "slide_type": "slide"
    }
   },
   "source": [
    "## VQE iteration"
   ]
  },
  {
   "cell_type": "code",
   "execution_count": 8,
   "id": "41e13762",
   "metadata": {
    "slideshow": {
     "slide_type": "slide"
    }
   },
   "outputs": [
    {
     "name": "stdout",
     "output_type": "stream",
     "text": [
      "  Iter     energy      \n",
      "   0   -1.872988638\n",
      "  20   -2.284528326\n"
     ]
    }
   ],
   "source": [
    "import scipy.optimize\n",
    "import matplotlib.pyplot as plt\n",
    "from qiskit.algorithms.optimizers import SLSQP, COBYLA, SPSA, NFT, L_BFGS_B, GSLS, CG\n",
    "from qiskit.algorithms.optimizers import TNC, SNOBFIT, QNSPSA, P_BFGS, NELDER_MEAD\n",
    "from qiskit.algorithms.optimizers import ADAM, BOBYQA, GradientDescent, IMFIL\n",
    "from qiskit.algorithms.optimizers import SciPyOptimizer\n",
    "\n",
    "Nval = 0\n",
    "N_val = []\n",
    "cost_val = [] \n",
    "\n",
    "converge_cnts = np.empty([], dtype=object)\n",
    "converge_vals = np.empty([], dtype=object)\n",
    "\n",
    "params = [random.random() for i in range(ansatz.num_parameters)]\n",
    "\n",
    "def cost(params):\n",
    "    return get_expectation_energy(qubit_hamiltonian,params,ansatz,shots=None)\n",
    "\n",
    "def callback(params,*wargs):\n",
    "    global cost_val, N_val, Nval\n",
    "    cost_val.append(cost(params))\n",
    "    N_val.append(Nval)\n",
    "    \n",
    "    if Nval%20==0:\n",
    "        print('{0:4d}   {1:3.9f}'.format(Nval,cost(params)))\n",
    "    Nval = Nval + 1\n",
    "\n",
    "optimizer = L_BFGS_B(maxiter=100, callback=callback)\n",
    "\n",
    "print('{0:4s}     {1:12s}'.format('  Iter', 'energy'))\n",
    "\n",
    "result=optimizer.minimize(cost, params)\n",
    "opt_params = result.x"
   ]
  },
  {
   "cell_type": "code",
   "execution_count": 9,
   "id": "d7125465",
   "metadata": {
    "slideshow": {
     "slide_type": "slide"
    }
   },
   "outputs": [
    {
     "data": {
      "text/plain": [
       "(array([-2.4, -2.3, -2.2, -2.1, -2. , -1.9, -1.8]),\n",
       " [Text(0, 0, ''),\n",
       "  Text(0, 0, ''),\n",
       "  Text(0, 0, ''),\n",
       "  Text(0, 0, ''),\n",
       "  Text(0, 0, ''),\n",
       "  Text(0, 0, ''),\n",
       "  Text(0, 0, '')])"
      ]
     },
     "execution_count": 9,
     "metadata": {},
     "output_type": "execute_result"
    },
    {
     "data": {
      "image/png": "[encoded data removed]",
      "text/plain": [
       "<Figure size 432x288 with 1 Axes>"
      ]
     },
     "metadata": {
      "needs_background": "light"
     },
     "output_type": "display_data"
    }
   ],
   "source": [
    "pylab.rcParams['figure.figsize'] = (6, 4)\n",
    "c=['blue','green','red','pink']\n",
    "#for i, optimizer in enumerate(optimizers):\n",
    "pylab.scatter(N_val, np.array(cost_val), label=type(optimizer).__name__,color=c[0])\n",
    "pylab.plot(N_val, np.array(cost_val), color=c[0])\n",
    "\n",
    "pylab.xlabel('iteration',fontsize='15')\n",
    "pylab.ylabel('energy',fontsize='15')\n",
    "pylab.legend(loc='upper right',fontsize='15')\n",
    "pylab.xticks(fontsize='15')\n",
    "pylab.yticks(fontsize='15')\n",
    "#pylab.hlines(exact,xmin=0,xmax=300, color='red',linestyles='--')"
   ]
  },
  {
   "cell_type": "code",
   "execution_count": 10,
   "id": "65aa5ff1",
   "metadata": {
    "slideshow": {
     "slide_type": "slide"
    }
   },
   "outputs": [
    {
     "data": {
      "text/plain": [
       "array([ 1.07330925e+00,  5.20761749e-01, -4.82579571e-01, -7.00349748e-01,\n",
       "        1.01543223e+00,  5.49246446e-01, -8.11705521e-06,  6.16147155e-01,\n",
       "        1.57077616e+00, -5.96379029e-01,  1.17730717e+00,  1.77567232e+00])"
      ]
     },
     "execution_count": 10,
     "metadata": {},
     "output_type": "execute_result"
    }
   ],
   "source": [
    "opt_params"
   ]
  },
  {
   "cell_type": "code",
   "execution_count": 11,
   "id": "0e9121f8",
   "metadata": {
    "slideshow": {
     "slide_type": "slide"
    }
   },
   "outputs": [
    {
     "data": {
      "text/plain": [
       "(-1.105933352231655, -0.7329846745241761)"
      ]
     },
     "execution_count": 11,
     "metadata": {},
     "output_type": "execute_result"
    }
   ],
   "source": [
    "#exact (ground state) -1.1059333523046924\n",
    "get_each_expectation_energy(qubit_hamiltonian,nuclear_repulsion_energy,opt_params,ansatz,shots=None)"
   ]
  },
  {
   "cell_type": "markdown",
   "id": "fc0c3d7a",
   "metadata": {
    "slideshow": {
     "slide_type": "slide"
    }
   },
   "source": [
    "## Potential Energy Surface"
   ]
  },
  {
   "cell_type": "code",
   "execution_count": 12,
   "id": "1f26c933",
   "metadata": {
    "slideshow": {
     "slide_type": "slide"
    }
   },
   "outputs": [],
   "source": [
    "def H(dist):\n",
    "    # define H2 molecule\n",
    "    charge = 0\n",
    "    multiplicity = 1\n",
    "    geometry = [['H',(0,0,0)],['H',(dist,0,0)]]\n",
    "    basis = 'sto3g'\n",
    "\n",
    "    molecule = Molecule(geometry=geometry,                                                                     \n",
    "                        charge=charge,\n",
    "                        multiplicity=multiplicity)  \n",
    "\n",
    "    # pyscf driver\n",
    "    driver = ElectronicStructureMoleculeDriver(molecule,                                                                                                 \n",
    "                                               basis=basis,                                                                                           \n",
    "                                               driver_type=ElectronicStructureDriverType.PYSCF)                                                           \n",
    "    properties = driver.run()                                                                                  \n",
    "    particle_number = properties.get_property(ParticleNumber)                                                       \n",
    "    electronic_energy = properties.get_property(ElectronicEnergy)\n",
    "    nuclear_repulsion_energy = electronic_energy.nuclear_repulsion_energy\n",
    "\n",
    "    # convert qubit hamiltonian\n",
    "    es_problem = ElectronicStructureProblem(driver)\n",
    "    qubit_converter = QubitConverter(mapper=ParityMapper(), two_qubit_reduction=True)                                                                                                                                                                                  \n",
    "    second_q_op = es_problem.second_q_ops()                                          \n",
    "    qubit_hamiltonian = qubit_converter.convert(second_q_op[\"ElectronicEnergy\"], num_particles=es_problem.num_particles)\n",
    "\n",
    "    return qubit_hamiltonian, nuclear_repulsion_energy"
   ]
  },
  {
   "cell_type": "code",
   "execution_count": 13,
   "id": "7250514f",
   "metadata": {
    "slideshow": {
     "slide_type": "slide"
    }
   },
   "outputs": [
    {
     "name": "stdout",
     "output_type": "stream",
     "text": [
      "0\n",
      "1\n",
      "2\n",
      "3\n",
      "4\n",
      "5\n",
      "6\n",
      "7\n",
      "8\n",
      "9\n",
      "10\n",
      "11\n",
      "12\n"
     ]
    }
   ],
   "source": [
    "bls=np.arange(0.5,3.0,0.2)\n",
    "\n",
    "#bls = [0.8]\n",
    "eng0=[]\n",
    "eng1=[]\n",
    "\n",
    "for i in range(len(bls)):\n",
    "\n",
    "    print(i)\n",
    "    params = [random.random() for i in range(ansatz.num_parameters)]\n",
    "    qubit_hamiltonian, nuclear_repulsion_energy = H(bls[i])\n",
    "\n",
    "    def cost(params):\n",
    "        return get_expectation_energy(qubit_hamiltonian,params,ansatz,shots=None)\n",
    "\n",
    "    optimizer = L_BFGS_B(maxiter=300)\n",
    "\n",
    "    result=optimizer.minimize(cost, params)\n",
    "    opt_params = result.x\n",
    "    \n",
    "    y0, y1 = get_each_expectation_energy(qubit_hamiltonian,nuclear_repulsion_energy, opt_params,ansatz,shots=None)\n",
    "    eng0.append(y0)\n",
    "    eng1.append(y1)"
   ]
  },
  {
   "cell_type": "code",
   "execution_count": 14,
   "id": "cefad144",
   "metadata": {},
   "outputs": [
    {
     "name": "stdout",
     "output_type": "stream",
     "text": [
      "[-1.0522674460652086, -1.1319513036967774, -1.120560280943387, -1.0791929449212367, -1.0351862664088005, -0.998149352849305, -0.9714266882455656, -0.9509546796389088, -0.9443742902378974, -0.9389223843361374, -0.9354946648278849, -0.9343037476010948, -0.9337098154149344]\n"
     ]
    }
   ],
   "source": [
    "# ground state\n",
    "print(eng0)"
   ]
  },
  {
   "cell_type": "code",
   "execution_count": 15,
   "id": "61e93a8c",
   "metadata": {},
   "outputs": [
    {
     "name": "stdout",
     "output_type": "stream",
     "text": [
      "[0.06228528346696249, -0.3538992421348005, -0.6828493914054804, -0.7929596974932659, -0.8552369406257829, -0.8905847811764577, -0.910337433364645, -0.9052671441454552, -0.9269928808198661, -0.9300586378824056, -0.9293475163883621, -0.9313007901005249, -0.9322804761897046]\n"
     ]
    }
   ],
   "source": [
    "# excited state\n",
    "print(eng1)"
   ]
  },
  {
   "cell_type": "code",
   "execution_count": 16,
   "id": "3eab5ae0",
   "metadata": {
    "slideshow": {
     "slide_type": "slide"
    }
   },
   "outputs": [
    {
     "data": {
      "image/png": "[encoded data removed]",
      "text/plain": [
       "<Figure size 432x288 with 1 Axes>"
      ]
     },
     "metadata": {
      "needs_background": "light"
     },
     "output_type": "display_data"
    }
   ],
   "source": [
    "import matplotlib.pyplot as plt\n",
    "plt.scatter(bls, eng0, label='ground state')\n",
    "plt.scatter(bls, eng1, label='excited state')\n",
    "plt.legend()\n",
    "plt.savefig('test.png')"
   ]
  },
  {
   "cell_type": "code",
   "execution_count": 17,
   "id": "b18b59f5",
   "metadata": {},
   "outputs": [
    {
     "data": {
      "text/html": [
       "<h3>Version Information</h3><table><tr><th>Qiskit Software</th><th>Version</th></tr><tr><td><code>qiskit-terra</code></td><td>0.21.1</td></tr><tr><td><code>qiskit-aer</code></td><td>0.10.4</td></tr><tr><td><code>qiskit-ignis</code></td><td>0.4.0</td></tr><tr><td><code>qiskit-ibmq-provider</code></td><td>0.19.2</td></tr><tr><td><code>qiskit</code></td><td>0.37.1</td></tr><tr><td><code>qiskit-nature</code></td><td>0.4.4</td></tr><tr><td><code>qiskit-finance</code></td><td>0.3.3</td></tr><tr><td><code>qiskit-optimization</code></td><td>0.4.0</td></tr><tr><td><code>qiskit-machine-learning</code></td><td>0.4.0</td></tr><tr><th>System information</th></tr><tr><td>Python version</td><td>3.8.13</td></tr><tr><td>Python compiler</td><td>GCC 7.5.0</td></tr><tr><td>Python build</td><td>default, Mar 28 2022 11:38:47</td></tr><tr><td>OS</td><td>Linux</td></tr><tr><td>CPUs</td><td>4</td></tr><tr><td>Memory (Gb)</td><td>7.406486511230469</td></tr><tr><td colspan='2'>Fri Aug 19 19:08:54 2022 JST</td></tr></table>"
      ],
      "text/plain": [
       "<IPython.core.display.HTML object>"
      ]
     },
     "metadata": {},
     "output_type": "display_data"
    }
   ],
   "source": [
    "import qiskit.tools.jupyter\n",
    "%qiskit_version_table"
   ]
  }
 ],
 "metadata": {
  "celltoolbar": "Slideshow",
  "kernelspec": {
   "display_name": "Python 3 (ipykernel)",
   "language": "python",
   "name": "python3"
  },
  "language_info": {
   "codemirror_mode": {
    "name": "ipython",
    "version": 3
   },
   "file_extension": ".py",
   "mimetype": "text/x-python",
   "name": "python",
   "nbconvert_exporter": "python",
   "pygments_lexer": "ipython3",
   "version": "3.8.13"
  }
 },
 "nbformat": 4,
 "nbformat_minor": 5
}
