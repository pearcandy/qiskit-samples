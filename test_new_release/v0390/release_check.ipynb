{
 "cells": [
  {
   "cell_type": "markdown",
   "id": "44536ff2",
   "metadata": {},
   "source": [
    "## Qiskit v0.39.0 \n",
    "2022/10/14\n",
    "\n",
    "#### New features\n",
    "- Custom Transpiler Stages using External Plugin  \n",
    "how to write plugins) qiskit/transpiler/preset_passmanagers/builtin_plugins.py\n",
    "  \n",
    "- Algorithm now suppor Primitives  \n",
    "  \n",
    "- Dynamic Circuit Support in the Transpiler  \n",
    "for_loop, if_else. while_loop are newly supported.\n",
    "  \n",
    "- SabreSwap Performance Improvements\n",
    "- Shor and HHL algorithm classes have been added"
   ]
  },
  {
   "cell_type": "markdown",
   "id": "948d05d8",
   "metadata": {},
   "source": [
    "### Algorithm now suppor Primitives  "
   ]
  },
  {
   "cell_type": "code",
   "execution_count": 2,
   "id": "b3840329",
   "metadata": {},
   "outputs": [
    {
     "name": "stdout",
     "output_type": "stream",
     "text": [
      "{   'aux_operators_evaluated': None,\n",
      "    'cost_function_evals': 200,\n",
      "    'eigenvalue': -1.9999109720087287,\n",
      "    'optimal_circuit': <qiskit.circuit.library.n_local.real_amplitudes.RealAmplitudes object at 0x7f17f5f94ca0>,\n",
      "    'optimal_parameters': {   ParameterVectorElement(θ[6]): 1.847676582608975,\n",
      "                              ParameterVectorElement(θ[4]): 1.3290242853192575,\n",
      "                              ParameterVectorElement(θ[2]): 3.2034542769616756,\n",
      "                              ParameterVectorElement(θ[1]): 1.2701066455234833,\n",
      "                              ParameterVectorElement(θ[5]): 1.698996642522411,\n",
      "                              ParameterVectorElement(θ[3]): 0.446432965801917,\n",
      "                              ParameterVectorElement(θ[7]): -4.525784766764474,\n",
      "                              ParameterVectorElement(θ[0]): 0.18584855122498112},\n",
      "    'optimal_point': array([ 0.18584855,  1.27010665,  3.20345428,  0.44643297,  1.32902429,\n",
      "        1.69899664,  1.84767658, -4.52578477]),\n",
      "    'optimal_value': -1.9999109720087287,\n",
      "    'optimizer_evals': None,\n",
      "    'optimizer_result': <qiskit.algorithms.optimizers.optimizer.OptimizerResult object at 0x7f17f67d0d30>,\n",
      "    'optimizer_time': 0.5288102626800537}\n"
     ]
    }
   ],
   "source": [
    "from qiskit.algorithms.minimum_eigensolvers import VQE\n",
    "from qiskit.algorithms.optimizers import SPSA\n",
    "from qiskit.circuit.library import RealAmplitudes\n",
    "from qiskit.primitives import Estimator\n",
    "from qiskit.quantum_info import SparsePauliOp\n",
    "\n",
    "op = SparsePauliOp([\"ZZ\",\"XX\"])\n",
    "vqe = VQE(Estimator(),RealAmplitudes(),SPSA())\n",
    "result = vqe.compute_minimum_eigenvalue(op)\n",
    "print(result)"
   ]
  },
  {
   "cell_type": "markdown",
   "id": "b1848bca",
   "metadata": {},
   "source": [
    "### Dynamic Circuit Support in the Transpiler "
   ]
  },
  {
   "cell_type": "code",
   "execution_count": 38,
   "id": "67d4dd98",
   "metadata": {},
   "outputs": [
    {
     "data": {
      "text/html": [
       "<pre style=\"word-wrap: normal;white-space: pre;background: #fff0;line-height: 1.1;font-family: &quot;Courier New&quot;,Courier,monospace\">     ┌───┐┌─┐┌──────────┐┌─┐   \n",
       "q_0: ┤ H ├┤M├┤0         ├┤M├───\n",
       "     └───┘└╥┘│          │└╥┘┌─┐\n",
       "q_1: ──────╫─┤1 If_else ├─╫─┤M├\n",
       "           ║ │          │ ║ └╥┘\n",
       "c_0: ══════╩═╡0         ╞═╩══╬═\n",
       "             └──────────┘    ║ \n",
       "c_1: ════════════════════════╩═\n",
       "                               </pre>"
      ],
      "text/plain": [
       "     ┌───┐┌─┐┌──────────┐┌─┐   \n",
       "q_0: ┤ H ├┤M├┤0         ├┤M├───\n",
       "     └───┘└╥┘│          │└╥┘┌─┐\n",
       "q_1: ──────╫─┤1 If_else ├─╫─┤M├\n",
       "           ║ │          │ ║ └╥┘\n",
       "c_0: ══════╩═╡0         ╞═╩══╬═\n",
       "             └──────────┘    ║ \n",
       "c_1: ════════════════════════╩═\n",
       "                               "
      ]
     },
     "execution_count": 38,
     "metadata": {},
     "output_type": "execute_result"
    }
   ],
   "source": [
    "from qiskit import QuantumCircuit\n",
    "\n",
    "qc = QuantumCircuit(2,2)\n",
    "qc.h(0)\n",
    "qc.measure(0,0)\n",
    "\n",
    "# if classical bit is True, add and X and Y gate on q1, \n",
    "# if False add a Y gate on q0\n",
    "\n",
    "with qc.if_test((0,True)) as else_:\n",
    "    qc.x(1)\n",
    "    qc.y(1)\n",
    "with else_:\n",
    "    qc.y(0)\n",
    "\n",
    "qc.measure([0,1],[0,1])\n",
    "\n",
    "qc.draw()"
   ]
  },
  {
   "cell_type": "code",
   "execution_count": 39,
   "id": "f317c8c2",
   "metadata": {},
   "outputs": [],
   "source": [
    "from qiskit import transpile\n",
    "from qiskit_aer import AerSimulator\n",
    "\n",
    "transpiled = transpile(qc, AerSimulator())\n"
   ]
  },
  {
   "cell_type": "code",
   "execution_count": 8,
   "id": "320effd9",
   "metadata": {},
   "outputs": [
    {
     "data": {
      "text/html": [
       "<h3>Version Information</h3><table><tr><th>Qiskit Software</th><th>Version</th></tr><tr><td><code>qiskit-terra</code></td><td>0.22.0</td></tr><tr><td><code>qiskit-aer</code></td><td>0.11.0</td></tr><tr><td><code>qiskit-ignis</code></td><td>0.4.0</td></tr><tr><td><code>qiskit-ibmq-provider</code></td><td>0.19.2</td></tr><tr><td><code>qiskit</code></td><td>0.39.0</td></tr><tr><td><code>qiskit-nature</code></td><td>0.4.5</td></tr><tr><td><code>qiskit-finance</code></td><td>0.3.4</td></tr><tr><td><code>qiskit-optimization</code></td><td>0.4.0</td></tr><tr><td><code>qiskit-machine-learning</code></td><td>0.4.0</td></tr><tr><th>System information</th></tr><tr><td>Python version</td><td>3.8.13</td></tr><tr><td>Python compiler</td><td>GCC 7.5.0</td></tr><tr><td>Python build</td><td>default, Mar 28 2022 11:38:47</td></tr><tr><td>OS</td><td>Linux</td></tr><tr><td>CPUs</td><td>4</td></tr><tr><td>Memory (Gb)</td><td>7.406517028808594</td></tr><tr><td colspan='2'>Sat Oct 15 09:35:11 2022 JST</td></tr></table>"
      ],
      "text/plain": [
       "<IPython.core.display.HTML object>"
      ]
     },
     "metadata": {},
     "output_type": "display_data"
    }
   ],
   "source": [
    "import qiskit.tools.jupyter\n",
    "%qiskit_version_table"
   ]
  },
  {
   "cell_type": "code",
   "execution_count": null,
   "id": "c115dd46",
   "metadata": {},
   "outputs": [],
   "source": []
  }
 ],
 "metadata": {
  "kernelspec": {
   "display_name": "Python 3 (ipykernel)",
   "language": "python",
   "name": "python3"
  },
  "language_info": {
   "codemirror_mode": {
    "name": "ipython",
    "version": 3
   },
   "file_extension": ".py",
   "mimetype": "text/x-python",
   "name": "python",
   "nbconvert_exporter": "python",
   "pygments_lexer": "ipython3",
   "version": "3.8.13"
  }
 },
 "nbformat": 4,
 "nbformat_minor": 5
}
