{
 "cells": [
  {
   "cell_type": "markdown",
   "id": "0a02d62e",
   "metadata": {
    "slideshow": {
     "slide_type": "slide"
    }
   },
   "source": [
    "# VQD for H2 molucule\n",
    "\n",
    "- ScipyOptimizer\n",
    "- Qiskit algorithm optimizer\n",
    "- reference  \n",
    "O. Higgott, D. Wang, and S. Brierley (2019). \"Variational quantum computation of excited states.\" Quantum, 3, 156.\n"
   ]
  },
  {
   "cell_type": "code",
   "execution_count": 1,
   "id": "e0541584",
   "metadata": {},
   "outputs": [],
   "source": [
    "from qiskit_nature.settings import settings\n",
    "\n",
    "settings.dict_aux_operators = True"
   ]
  },
  {
   "cell_type": "code",
   "execution_count": 2,
   "id": "7dbd1701",
   "metadata": {
    "slideshow": {
     "slide_type": "slide"
    }
   },
   "outputs": [],
   "source": [
    "import numpy as np\n",
    "import pylab\n",
    "\n",
    "from qiskit import Aer\n",
    "from qiskit import QuantumCircuit, transpile\n",
    "\n",
    "from qiskit.opflow import I, X, Y, Z, StateFn, CircuitStateFn\n",
    "from qiskit.opflow.converters import CircuitSampler\n",
    "from qiskit.opflow.expectations import PauliExpectation, AerPauliExpectation\n",
    "\n",
    "from qiskit.algorithms import VQE, NumPyMinimumEigensolver\n",
    "from qiskit.algorithms.optimizers import COBYLA, L_BFGS_B, SLSQP, POWELL,SPSA\n",
    "\n",
    "from qiskit.utils import QuantumInstance, algorithm_globals\n",
    "from qiskit.circuit.library import TwoLocal\n",
    "from qiskit.circuit import QuantumCircuit, ParameterVector\n",
    "\n",
    "from qiskit_nature.drivers import UnitsType, Molecule                                                                   \n",
    "from qiskit_nature.drivers.second_quantization import ElectronicStructureDriverType, ElectronicStructureMoleculeDriver  \n",
    "from qiskit_nature.problems.second_quantization import ElectronicStructureProblem                                       \n",
    "from qiskit_nature.converters.second_quantization import QubitConverter                                                 \n",
    "from qiskit_nature.mappers.second_quantization import JordanWignerMapper, ParityMapper                                  \n",
    "from qiskit.providers.aer import StatevectorSimulator \n",
    "\n",
    "from qiskit.circuit.library import EfficientSU2\n",
    "\n",
    "from qiskit_nature.properties.second_quantization.electronic import (                                                   \n",
    "    ElectronicEnergy,                                                                                                   \n",
    "    ElectronicDipoleMoment,                                                                                             \n",
    "    ParticleNumber,                                                                                                     \n",
    "    AngularMomentum,                                                                                                    \n",
    "    Magnetization,                                                                                                      \n",
    ")                                                                                                                       \n",
    "\n",
    "import random"
   ]
  },
  {
   "cell_type": "markdown",
   "id": "7ed0e6c9",
   "metadata": {
    "slideshow": {
     "slide_type": "slide"
    }
   },
   "source": [
    "## Define H2 molecule\n",
    "\n",
    "- charge  \n",
    "0\n",
    "- multiplicity  \n",
    "2S+1 = 1\n",
    "- basis  \n",
    "sto3g\n",
    "- two-qubit reduction  \n",
    "True"
   ]
  },
  {
   "cell_type": "code",
   "execution_count": 3,
   "id": "8e1537c9",
   "metadata": {
    "slideshow": {
     "slide_type": "slide"
    }
   },
   "outputs": [],
   "source": [
    "charge = 0\n",
    "multiplicity = 1\n",
    "geometry = [['H',(0,0,0)],['H',(0.977,0,0)]]\n",
    "basis = 'sto3g'\n",
    "\n",
    "molecule = Molecule(geometry=geometry,                                                                     \n",
    "                    charge=charge,\n",
    "                    multiplicity=multiplicity)  \n",
    "\n",
    "# pyscf driver\n",
    "driver = ElectronicStructureMoleculeDriver(molecule,                                                                                                 \n",
    "                                           basis=basis,                                                                                           \n",
    "                                           driver_type=ElectronicStructureDriverType.PYSCF)                                                           \n",
    "properties = driver.run()                                                                                  \n",
    "particle_number = properties.get_property(ParticleNumber)                                                       \n",
    "electronic_energy = properties.get_property(ElectronicEnergy)\n",
    "nuclear_repulsion_energy = electronic_energy.nuclear_repulsion_energy\n",
    "\n",
    "# convert qubit hamiltonian\n",
    "es_problem = ElectronicStructureProblem(driver)        \n",
    "second_q_op = es_problem.second_q_ops()\n",
    "#qubit_converter = QubitConverter(mapper=JordanWignerMapper(),two_qubit_reduction=True)\n",
    "qubit_converter = QubitConverter(mapper=ParityMapper(), two_qubit_reduction=True)\n",
    "qubit_hamiltonian = qubit_converter.convert(second_q_op[\"ElectronicEnergy\"], num_particles=es_problem.num_particles)"
   ]
  },
  {
   "cell_type": "code",
   "execution_count": 4,
   "id": "ddc98f85",
   "metadata": {
    "slideshow": {
     "slide_type": "slide"
    }
   },
   "outputs": [],
   "source": [
    "def get_expectation_energy_gs(qubit_hamiltonian,params,ansatz,shots=None):\n",
    "\n",
    "    qc = QuantumCircuit(2)\n",
    "    qc.append(ansatz.bind_parameters(params),[0,1])    \n",
    "    psi = CircuitStateFn(qc)    \n",
    "    \n",
    "    # simulator background\n",
    "    measurable_expression = StateFn(qubit_hamiltonian, is_measurement=True).compose(psi)  \n",
    "    \n",
    "    if shots==None:\n",
    "        backend = Aer.get_backend('statevector_simulator') \n",
    "        q_instance = QuantumInstance(backend)\n",
    "        \n",
    "        expectation = AerPauliExpectation().convert(measurable_expression)\n",
    "        sampler = CircuitSampler(q_instance).convert(expectation)     \n",
    "        energy = sampler.eval().real\n",
    "\n",
    "    else:\n",
    "        backend = Aer.get_backend('qasm_simulator',shots=shots) \n",
    "        q_instance = QuantumInstance(backend)\n",
    "        \n",
    "        expectation = PauliExpectation().convert(measurable_expression)\n",
    "        sampler = CircuitSampler(q_instance).convert(expectation) \n",
    "        energy = sampler.eval().real\n",
    "    \n",
    "    return energy"
   ]
  },
  {
   "cell_type": "code",
   "execution_count": 5,
   "id": "d7a0e255",
   "metadata": {
    "slideshow": {
     "slide_type": "slide"
    }
   },
   "outputs": [],
   "source": [
    "def get_expectation_energy(qubit_hamiltonian,nuclear_repulsion_energy, params,ansatz,shots=None):\n",
    "    \n",
    "    qc = QuantumCircuit(2)\n",
    "    qc.append(ansatz.bind_parameters(params),[0,1])    \n",
    "    psi = CircuitStateFn(qc)    \n",
    "\n",
    "    # simulator background\n",
    "    measurable_expression = StateFn(qubit_hamiltonian, is_measurement=True).compose(psi)\n",
    "    \n",
    "    if shots==None:\n",
    "        backend = Aer.get_backend('statevector_simulator') \n",
    "        q_instance = QuantumInstance(backend)\n",
    "        expectation = AerPauliExpectation().convert(measurable_expression)\n",
    "        sampler = CircuitSampler(q_instance).convert(expectation)     \n",
    "        energy = sampler.eval().real\n",
    "        \n",
    "    else:\n",
    "        backend = Aer.get_backend('qasm_simulator',shots=shots) \n",
    "        q_instance = QuantumInstance(backend)\n",
    "        expectation = PauliExpectation().convert(measurable_expression)\n",
    "        sampler = CircuitSampler(q_instance).convert(expectation) \n",
    "        energy = sampler.eval().real\n",
    "    \n",
    "    return energy + nuclear_repulsion_energy"
   ]
  },
  {
   "cell_type": "code",
   "execution_count": 6,
   "id": "069dc483",
   "metadata": {},
   "outputs": [],
   "source": [
    "# inversion test\n",
    "# calculate <0| U+(Θ0) U(Θ1) |0>**2\n",
    "\n",
    "def UU(ansatz,opt_params, params, shots=None):\n",
    "\n",
    "    qc = QuantumCircuit(2)\n",
    "    qc.append(ansatz.bind_parameters(params),[0,1]) \n",
    "    qc.append(ansatz.bind_parameters(opt_params).inverse(),[0,1])     \n",
    "      \n",
    "    backend = Aer.get_backend('statevector_simulator') \n",
    "    compiled_circuit = transpile(qc, backend)\n",
    "    job = backend.run(compiled_circuit)\n",
    "    result = job.result().data()['statevector']\n",
    "    return np.abs(result[0])**2\n",
    "        "
   ]
  },
  {
   "cell_type": "markdown",
   "id": "35f985ab",
   "metadata": {
    "slideshow": {
     "slide_type": "slide"
    }
   },
   "source": [
    "## ansatz\n",
    "- Hardware Efficient ansatz  \n",
    "Efficient SU2\n",
    "https://qiskit.org/documentation/stubs/qiskit.circuit.library.EfficientSU2.html"
   ]
  },
  {
   "cell_type": "code",
   "execution_count": 7,
   "id": "9a370003",
   "metadata": {
    "scrolled": true,
    "slideshow": {
     "slide_type": "slide"
    }
   },
   "outputs": [],
   "source": [
    "ansatz = EfficientSU2(num_qubits=2,                                                                              \n",
    "                      reps=2,                                                                                   \n",
    "                      entanglement='linear',                                                                        \n",
    "                      insert_barriers=True)   "
   ]
  },
  {
   "cell_type": "code",
   "execution_count": 8,
   "id": "463893b0",
   "metadata": {},
   "outputs": [
    {
     "data": {
      "image/png": "[encoded data removed]",
      "text/plain": [
       "<Figure size 808.852x144.48 with 1 Axes>"
      ]
     },
     "execution_count": 8,
     "metadata": {},
     "output_type": "execute_result"
    }
   ],
   "source": [
    "ansatz.decompose().draw('mpl')"
   ]
  },
  {
   "cell_type": "markdown",
   "id": "48edb462",
   "metadata": {
    "slideshow": {
     "slide_type": "slide"
    }
   },
   "source": [
    "## VQE iteration for ground state"
   ]
  },
  {
   "cell_type": "code",
   "execution_count": 9,
   "id": "41e13762",
   "metadata": {
    "slideshow": {
     "slide_type": "slide"
    }
   },
   "outputs": [
    {
     "name": "stdout",
     "output_type": "stream",
     "text": [
      "  Iter     energy      \n",
      "   0   -1.213240203\n"
     ]
    }
   ],
   "source": [
    "import scipy.optimize\n",
    "import matplotlib.pyplot as plt\n",
    "from qiskit.algorithms.optimizers import SLSQP, COBYLA, SPSA, NFT, L_BFGS_B, GSLS, CG\n",
    "from qiskit.algorithms.optimizers import TNC, SNOBFIT, QNSPSA, P_BFGS, NELDER_MEAD\n",
    "from qiskit.algorithms.optimizers import ADAM, BOBYQA, GradientDescent, IMFIL\n",
    "from qiskit.algorithms.optimizers import SciPyOptimizer\n",
    "\n",
    "Nval = 0\n",
    "N_val = []\n",
    "cost_val = [] \n",
    "\n",
    "converge_cnts = np.empty([], dtype=object)\n",
    "converge_vals = np.empty([], dtype=object)\n",
    "\n",
    "params = [random.random() for i in range(ansatz.num_parameters)]\n",
    "\n",
    "def cost(params):\n",
    "    return get_expectation_energy_gs(qubit_hamiltonian,params,ansatz,shots=None)\n",
    "\n",
    "def callback(params,*wargs):\n",
    "    global cost_val, N_val, Nval\n",
    "    cost_val.append(cost(params))\n",
    "    N_val.append(Nval)\n",
    "    \n",
    "    if Nval%20==0:\n",
    "        print('{0:4d}   {1:3.9f}'.format(Nval,cost(params)))\n",
    "    Nval = Nval + 1\n",
    "\n",
    "optimizer = L_BFGS_B(maxiter=100, callback=callback)\n",
    "\n",
    "print('{0:4s}     {1:12s}'.format('  Iter', 'energy'))\n",
    "\n",
    "result=optimizer.minimize(cost, params)\n",
    "opt_params = result.x"
   ]
  },
  {
   "cell_type": "code",
   "execution_count": 10,
   "id": "d7125465",
   "metadata": {
    "slideshow": {
     "slide_type": "slide"
    }
   },
   "outputs": [
    {
     "data": {
      "text/plain": [
       "(array([-1.7, -1.6, -1.5, -1.4, -1.3, -1.2, -1.1]),\n",
       " [Text(0, 0, ''),\n",
       "  Text(0, 0, ''),\n",
       "  Text(0, 0, ''),\n",
       "  Text(0, 0, ''),\n",
       "  Text(0, 0, ''),\n",
       "  Text(0, 0, ''),\n",
       "  Text(0, 0, '')])"
      ]
     },
     "execution_count": 10,
     "metadata": {},
     "output_type": "execute_result"
    },
    {
     "data": {
      "image/png": "[encoded data removed]",
      "text/plain": [
       "<Figure size 432x288 with 1 Axes>"
      ]
     },
     "metadata": {
      "needs_background": "light"
     },
     "output_type": "display_data"
    }
   ],
   "source": [
    "pylab.rcParams['figure.figsize'] = (6, 4)\n",
    "c=['blue','green','red','pink']\n",
    "#for i, optimizer in enumerate(optimizers):\n",
    "pylab.scatter(N_val, np.array(cost_val), label=type(optimizer).__name__,color=c[0])\n",
    "pylab.plot(N_val, np.array(cost_val), color=c[0])\n",
    "\n",
    "pylab.xlabel('iteration',fontsize='15')\n",
    "pylab.ylabel('energy',fontsize='15')\n",
    "pylab.legend(loc='upper right',fontsize='15')\n",
    "pylab.xticks(fontsize='15')\n",
    "pylab.yticks(fontsize='15')\n",
    "#pylab.hlines(exact,xmin=0,xmax=300, color='red',linestyles='--')"
   ]
  },
  {
   "cell_type": "code",
   "execution_count": 11,
   "id": "65aa5ff1",
   "metadata": {
    "slideshow": {
     "slide_type": "slide"
    }
   },
   "outputs": [
    {
     "data": {
      "text/plain": [
       "array([ 1.71358618, -0.48791541, -0.0107831 ,  1.11661871,  1.37613803,\n",
       "        1.0440715 ,  0.62499299, -0.21311694,  1.75444015,  0.2078409 ,\n",
       "        1.26632865,  1.58787336])"
      ]
     },
     "execution_count": 11,
     "metadata": {},
     "output_type": "execute_result"
    }
   ],
   "source": [
    "opt_params"
   ]
  },
  {
   "cell_type": "code",
   "execution_count": 12,
   "id": "0e9121f8",
   "metadata": {
    "slideshow": {
     "slide_type": "slide"
    }
   },
   "outputs": [
    {
     "data": {
      "text/plain": [
       "-1.1059333522961754"
      ]
     },
     "execution_count": 12,
     "metadata": {},
     "output_type": "execute_result"
    }
   ],
   "source": [
    "#exact (ground state) -1.1059333523046924\n",
    "get_expectation_energy(qubit_hamiltonian,nuclear_repulsion_energy,opt_params,ansatz,shots=None)"
   ]
  },
  {
   "cell_type": "markdown",
   "id": "fc0c3d7a",
   "metadata": {
    "slideshow": {
     "slide_type": "slide"
    }
   },
   "source": [
    "## Potential Energy Surface"
   ]
  },
  {
   "cell_type": "code",
   "execution_count": 13,
   "id": "1f26c933",
   "metadata": {
    "slideshow": {
     "slide_type": "slide"
    }
   },
   "outputs": [],
   "source": [
    "def H(dist):\n",
    "    # define H2 molecule\n",
    "    charge = 0\n",
    "    multiplicity = 1\n",
    "    geometry = [['H',(0,0,0)],['H',(dist,0,0)]]\n",
    "    basis = 'sto3g'\n",
    "\n",
    "    molecule = Molecule(geometry=geometry,                                                                     \n",
    "                        charge=charge,\n",
    "                        multiplicity=multiplicity)  \n",
    "\n",
    "    # pyscf driver\n",
    "    driver = ElectronicStructureMoleculeDriver(molecule,                                                                                                 \n",
    "                                               basis=basis,                                                                                           \n",
    "                                               driver_type=ElectronicStructureDriverType.PYSCF)                                                           \n",
    "    properties = driver.run()                                                                                  \n",
    "    particle_number = properties.get_property(ParticleNumber)                                                       \n",
    "    electronic_energy = properties.get_property(ElectronicEnergy)\n",
    "    nuclear_repulsion_energy = electronic_energy.nuclear_repulsion_energy\n",
    "\n",
    "    # convert qubit hamiltonian\n",
    "    es_problem = ElectronicStructureProblem(driver)\n",
    "    qubit_converter = QubitConverter(mapper=ParityMapper(), two_qubit_reduction=True)                                                                                                                                                                                  \n",
    "    second_q_op = es_problem.second_q_ops()                                          \n",
    "    qubit_hamiltonian = qubit_converter.convert(second_q_op[\"ElectronicEnergy\"], num_particles=es_problem.num_particles)\n",
    "\n",
    "    return qubit_hamiltonian, nuclear_repulsion_energy"
   ]
  },
  {
   "cell_type": "code",
   "execution_count": 14,
   "id": "7250514f",
   "metadata": {
    "slideshow": {
     "slide_type": "slide"
    }
   },
   "outputs": [
    {
     "name": "stdout",
     "output_type": "stream",
     "text": [
      "0\n",
      "1\n",
      "2\n",
      "3\n",
      "4\n",
      "5\n",
      "6\n",
      "7\n",
      "8\n",
      "9\n"
     ]
    }
   ],
   "source": [
    "bls=np.arange(0.4,2.4,0.2)\n",
    "\n",
    "eng0=[]\n",
    "eng1=[]\n",
    "\n",
    "for i in range(len(bls)):\n",
    "\n",
    "    print(i)\n",
    "    qubit_hamiltonian, nuclear_repulsion_energy = H(bls[i])\n",
    "    \n",
    "    # ground state\n",
    "    def cost0(params):\n",
    "        return get_expectation_energy_gs(qubit_hamiltonian,params,ansatz,shots=None)\n",
    "\n",
    "    params0 = [random.random() for i in range(ansatz.num_parameters)]\n",
    "    optimizer = L_BFGS_B(maxiter=200)\n",
    "    result=optimizer.minimize(cost, params0)\n",
    "    opt_params0 = result.x\n",
    "    \n",
    "    y0 = get_expectation_energy(qubit_hamiltonian,nuclear_repulsion_energy, opt_params0,ansatz,shots=None)\n",
    "    eng0.append(y0)\n",
    "    \n",
    "    # excited state\n",
    "    def cost1(params):\n",
    "        return get_expectation_energy_gs(qubit_hamiltonian,params,ansatz,shots=None) + 1.0 * UU(ansatz,opt_params0, params, shots=None)\n",
    "    \n",
    "    params1 = [random.random() for i in range(ansatz.num_parameters)]\n",
    "    optimizer = L_BFGS_B(maxiter=200)\n",
    "    result=optimizer.minimize(cost1, params1)\n",
    "    opt_params1 = result.x\n",
    "    \n",
    "    y1 = get_expectation_energy(qubit_hamiltonian,nuclear_repulsion_energy, opt_params1,ansatz,shots=None) + 1.0 * UU(ansatz,opt_params0, opt_params1, shots=None)\n",
    "    eng1.append(y1)"
   ]
  },
  {
   "cell_type": "code",
   "execution_count": 15,
   "id": "3eab5ae0",
   "metadata": {
    "slideshow": {
     "slide_type": "slide"
    }
   },
   "outputs": [
    {
     "data": {
      "image/png": "[encoded data removed]",
      "text/plain": [
       "<Figure size 432x288 with 1 Axes>"
      ]
     },
     "metadata": {
      "needs_background": "light"
     },
     "output_type": "display_data"
    }
   ],
   "source": [
    "import matplotlib.pyplot as plt\n",
    "plt.scatter(bls, eng0, label='ground state')\n",
    "plt.scatter(bls, eng1, label='excited state')\n",
    "plt.legend()\n",
    "plt.savefig('test.png')"
   ]
  }
 ],
 "metadata": {
  "celltoolbar": "Slideshow",
  "kernelspec": {
   "display_name": "Python 3 (ipykernel)",
   "language": "python",
   "name": "python3"
  },
  "language_info": {
   "codemirror_mode": {
    "name": "ipython",
    "version": 3
   },
   "file_extension": ".py",
   "mimetype": "text/x-python",
   "name": "python",
   "nbconvert_exporter": "python",
   "pygments_lexer": "ipython3",
   "version": "3.8.13"
  }
 },
 "nbformat": 4,
 "nbformat_minor": 5
}
